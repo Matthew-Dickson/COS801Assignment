{
 "cells": [
  {
   "cell_type": "code",
   "execution_count": 34,
   "metadata": {},
   "outputs": [],
   "source": [
    "import nltk\n",
    "import pandas as pd\n",
    "from nltk.tokenize import word_tokenize\n",
    "import utils.tag_utils as tag_util\n"
   ]
  },
  {
   "cell_type": "code",
   "execution_count": 35,
   "metadata": {},
   "outputs": [],
   "source": [
    "#Parameters\n",
    "FILE_NAME = \"../Data/processed_data.csv\"\n",
    "X_LABEL_NAME=\"raw_text\"\n",
    "SAVE_FILE_NAME = \"processed_tagged_data.csv\"\n"
   ]
  },
  {
   "cell_type": "code",
   "execution_count": 36,
   "metadata": {},
   "outputs": [],
   "source": [
    "data = pd.read_csv(FILE_NAME)"
   ]
  },
  {
   "cell_type": "code",
   "execution_count": 37,
   "metadata": {},
   "outputs": [],
   "source": [
    "data['tokens'] = data.apply(lambda row:  nltk.word_tokenize(row[X_LABEL_NAME]), axis=1)"
   ]
  },
  {
   "cell_type": "code",
   "execution_count": 38,
   "metadata": {},
   "outputs": [],
   "source": [
    "\n",
    "data['pos_tags'] = data.apply(lambda row: nltk.pos_tag(row[\"tokens\"]), axis=1)"
   ]
  },
  {
   "cell_type": "code",
   "execution_count": 39,
   "metadata": {},
   "outputs": [],
   "source": [
    "data['CC'] = data[X_LABEL_NAME].apply(tag_util.tagCC)\n",
    "data['CD'] = data[X_LABEL_NAME].apply(tag_util.tagCD)\n",
    "data['DT'] = data[X_LABEL_NAME].apply(tag_util.tagDT)\n",
    "data['EX'] = data[X_LABEL_NAME].apply(tag_util.tagEX)\n",
    "data['FW'] = data[X_LABEL_NAME].apply(tag_util.tagFW)\n",
    "data['IN'] = data[X_LABEL_NAME].apply(tag_util.tagIN)\n",
    "data['JJ'] = data[X_LABEL_NAME].apply(tag_util.tagJJ)\n",
    "data['JJR'] = data[X_LABEL_NAME].apply(tag_util.tagJJR)\n",
    "data['JJS'] = data[X_LABEL_NAME].apply(tag_util.tagJJS)\n",
    "data['LS'] = data[X_LABEL_NAME].apply(tag_util.tagLS)\n",
    "data['JJR'] = data[X_LABEL_NAME].apply(tag_util.tagJJR)\n",
    "data['JJS'] = data[X_LABEL_NAME].apply(tag_util.tagJJS)\n",
    "data['MD'] = data[X_LABEL_NAME].apply(tag_util.tagMD)\n",
    "data['NN'] = data[X_LABEL_NAME].apply(tag_util.tagNN)\n",
    "data['NNS'] = data[X_LABEL_NAME].apply(tag_util.tagNNS)\n",
    "data['NNP'] = data[X_LABEL_NAME].apply(tag_util.tagNNP)\n",
    "data['NNPS'] = data[X_LABEL_NAME].apply(tag_util.tagNNPS)\n",
    "data['PDT'] = data[X_LABEL_NAME].apply(tag_util.tagPDT)\n",
    "data['POS'] = data[X_LABEL_NAME].apply(tag_util.tagPOS)\n",
    "data['PRP'] = data[X_LABEL_NAME].apply(tag_util.tagPRP)\n",
    "data['PRP$'] = data[X_LABEL_NAME].apply(tag_util.tagPRP2)\n",
    "data['RB'] = data[X_LABEL_NAME].apply(tag_util.tagRB)\n",
    "data['RBR'] = data[X_LABEL_NAME].apply(tag_util.tagRBR)\n",
    "data['RBS'] = data[X_LABEL_NAME].apply(tag_util.tagRBS)\n",
    "data['RP'] = data[X_LABEL_NAME].apply(tag_util.tagRP)\n",
    "data['SYM'] = data[X_LABEL_NAME].apply(tag_util.tagSYM)\n",
    "data['TO'] = data[X_LABEL_NAME].apply(tag_util.tagTO)\n",
    "data['UH'] = data[X_LABEL_NAME].apply(tag_util.tagUH)\n",
    "data['VB'] = data[X_LABEL_NAME].apply(tag_util.tagVB)\n",
    "data['VBD'] = data[X_LABEL_NAME].apply(tag_util.tagVBD)\n",
    "data['VBG'] = data[X_LABEL_NAME].apply(tag_util.tagVBG)\n",
    "data['VBN'] = data[X_LABEL_NAME].apply(tag_util.tagVBN)\n",
    "data['VBP'] = data[X_LABEL_NAME].apply(tag_util.tagVBP)\n",
    "data['VBZ'] = data[X_LABEL_NAME].apply(tag_util.tagVBZ)\n",
    "data['WDT'] = data[X_LABEL_NAME].apply(tag_util.tagWDT)\n",
    "data['WP'] = data[X_LABEL_NAME].apply(tag_util.tagWP)\n",
    "data['WP$'] = data[X_LABEL_NAME].apply(tag_util.tagWP2)\n",
    "data['WRB'] = data[X_LABEL_NAME].apply(tag_util.tagWRB)"
   ]
  },
  {
   "cell_type": "code",
   "execution_count": null,
   "metadata": {},
   "outputs": [],
   "source": [
    "#save to excel\n",
    "data.to_csv(SAVE_FILE_NAME)"
   ]
  }
 ],
 "metadata": {
  "kernelspec": {
   "display_name": "Python 3.9.6 64-bit",
   "language": "python",
   "name": "python3"
  },
  "language_info": {
   "codemirror_mode": {
    "name": "ipython",
    "version": 3
   },
   "file_extension": ".py",
   "mimetype": "text/x-python",
   "name": "python",
   "nbconvert_exporter": "python",
   "pygments_lexer": "ipython3",
   "version": "3.9.6"
  },
  "orig_nbformat": 4,
  "vscode": {
   "interpreter": {
    "hash": "81794d4967e6c3204c66dcd87b604927b115b27c00565d3d43f05ba2f3a2cb0d"
   }
  }
 },
 "nbformat": 4,
 "nbformat_minor": 2
}
