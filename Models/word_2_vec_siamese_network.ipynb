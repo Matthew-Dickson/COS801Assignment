{
 "cells": [
  {
   "cell_type": "code",
   "execution_count": 70,
   "metadata": {},
   "outputs": [],
   "source": [
    "# Import packages\n",
    "import numpy as np\n",
    "import pandas as pd\n",
    "import matplotlib.pyplot as plt\n",
    "import time\n",
    "import nltk\n",
    "\n",
    "from sklearn.model_selection import train_test_split, KFold\n",
    "from sklearn.metrics import accuracy_score\n",
    "from sklearn.metrics import precision_recall_fscore_support as score\n",
    "from sklearn.preprocessing import LabelBinarizer\n",
    "\n",
    "from keras.models import Model\n",
    "from keras.layers import Input, Dense, Flatten, Dropout, Embedding\n",
    "from keras.layers.convolutional import Conv1D, MaxPooling1D,Conv2D\n",
    "from tensorflow.keras.layers import concatenate\n",
    "from keras.optimizers import Adam\n",
    "from sklearn.preprocessing import LabelEncoder\n",
    "import tensorflow as tf\n",
    "from scipy import sparse, stats\n",
    "import utils.text_processing as util\n",
    "from sklearn.feature_extraction.text import TfidfVectorizer\n",
    "from tensorflow.keras import models, layers, preprocessing as kprocessing\n",
    "## for word embedding\n",
    "import gensim\n",
    "import seaborn as sns\n",
    "\n",
    "from sklearn import feature_extraction, model_selection, naive_bayes, pipeline, manifold, preprocessing"
   ]
  },
  {
   "cell_type": "code",
   "execution_count": 71,
   "metadata": {},
   "outputs": [],
   "source": [
    "#Parameters\n",
    "OUTPUT_CLASSES = 22\n",
    "FILE_NAME = \"../Data/processed_data.csv\"\n",
    "SEQUENCE_LENGTH = 125\n",
    "EMBEDDING_SIZES =[300,300]\n",
    "BATCH_SIZE = 32\n",
    "EPOCH_LENGTH = 10\n",
    "VALIDATION_PERCENTAGE = 0.1\n",
    "TEST_SIZE_PERCENTAGE = 0.2\n",
    "Y_LABEL_NAME=\"username\"\n",
    "X_LABEL_NAME=\"raw_text\"\n",
    "COV_FILTERS = [300,350,250,250]\n",
    "FILTER_SIZES = [1, 1,1,1]\n",
    "NUMBER_K_FOLDS = 3\n",
    "LEARNING_RATE = 0.0005\n",
    "VERBOSE = 1\n"
   ]
  },
  {
   "cell_type": "code",
   "execution_count": 72,
   "metadata": {},
   "outputs": [],
   "source": [
    "def define_model(input_len, output_size, embedding_dims, verbose = True,\n",
    "                drop_out_pct = 0.25, conv_filters = 500, activation_fn = 'tanh', pool_size = 4, learning = 0.0005):\n",
    "\n",
    "   # Sub network 1\n",
    "    #(None, 15, 1)\n",
    "    inputs1 = Input(shape=(input_len, ))\n",
    "    embedding1 = Embedding(input_length=input_len,weights=[embedding_dims],trainable=False,input_dim=embedding_dims.shape[0], output_dim=embedding_dims.shape[1])(inputs1)\n",
    "    conv1_1 = Conv1D(filters = COV_FILTERS[0], kernel_size = FILTER_SIZES[0], activation = activation_fn, padding='same')(embedding1)\n",
    "    conv1_2 = Conv1D(filters = COV_FILTERS[1], kernel_size = FILTER_SIZES[1], activation = activation_fn)(conv1_1)\n",
    "    #pool1 = MaxPooling1D(pool_size = pool_size , padding='same')(conv1_2)\n",
    "    conv1_3 = Conv1D(filters = COV_FILTERS[2], kernel_size = FILTER_SIZES[2], activation = activation_fn)(conv1_2)\n",
    "    conv1_4 = Conv1D(filters = COV_FILTERS[3], kernel_size = FILTER_SIZES[3], activation = activation_fn)(conv1_3)\n",
    "    #pool2 = MaxPooling1D(pool_size = pool_size, padding='same')(conv1_1)\n",
    "    dense1 = Dense(400, activation = 'sigmoid')(conv1_4)\n",
    "    flat1 = Flatten()(dense1)\n",
    "    \n",
    "    # Sub network 2\n",
    "    inputs2 = Input(shape=(input_len, ))\n",
    "    embedding2 = Embedding(input_length=5,weights=[embedding_dims],trainable=False,input_dim=embedding_dims.shape[0], output_dim=embedding_dims.shape[1])(inputs2)\n",
    "    conv2_1 = Conv1D(filters = COV_FILTERS[0], kernel_size = FILTER_SIZES[0], activation = activation_fn, padding='same')(embedding2)\n",
    "    conv2_2 = Conv1D(filters = COV_FILTERS[1], kernel_size = FILTER_SIZES[1], activation = activation_fn)(conv2_1)\n",
    "    #pool3 = MaxPooling1D(pool_size = pool_size , padding='same')(conv2_2)\n",
    "    conv2_3 = Conv1D(filters = COV_FILTERS[2], kernel_size = FILTER_SIZES[2], activation = activation_fn)(conv2_2)\n",
    "    conv2_4 = Conv1D(filters = COV_FILTERS[3], kernel_size = FILTER_SIZES[3], activation = activation_fn)(conv2_3)\n",
    "    #pool4 = MaxPooling1D(pool_size = pool_size, padding='same')(conv2_1)\n",
    "    dense2 = Dense(400, activation = 'sigmoid')(conv2_4)\n",
    "    flat2 = Flatten()(dense2)\n",
    "\n",
    "\n",
    "    # Merge channels\n",
    "    merged = concatenate([flat1, flat2])\n",
    "    \n",
    "    # Create output layer\n",
    "    #dense = Dense(10, activation = 'sigmoid')(merged)\n",
    "    output = Dense(output_size, activation = 'softmax')(merged)\n",
    "\n",
    "    # Create model\n",
    "    model = Model(inputs = [inputs1, inputs2], outputs = output)\n",
    "    \n",
    "    # Compile model\n",
    "    model.compile(loss='categorical_crossentropy', optimizer = Adam(learning_rate = learning), metrics=['accuracy'])\n",
    "    \n",
    "    if verbose:\n",
    "        print(model.summary())\n",
    "        \n",
    "    return model"
   ]
  },
  {
   "cell_type": "code",
   "execution_count": 73,
   "metadata": {},
   "outputs": [],
   "source": [
    "#Read data\n",
    "data = pd.read_csv(FILE_NAME)"
   ]
  },
  {
   "cell_type": "code",
   "execution_count": 74,
   "metadata": {},
   "outputs": [],
   "source": [
    "#Get text and y label\n",
    "text = data[X_LABEL_NAME]\n",
    "author = data[Y_LABEL_NAME]"
   ]
  },
  {
   "cell_type": "code",
   "execution_count": 75,
   "metadata": {},
   "outputs": [],
   "source": [
    "#Split data\n",
    "text_train, text_test, author_train, author_test = train_test_split(text, author, test_size = TEST_SIZE_PERCENTAGE, random_state = 5)"
   ]
  },
  {
   "cell_type": "code",
   "execution_count": 76,
   "metadata": {},
   "outputs": [],
   "source": [
    "## create list of lists of unigrams\n",
    "corpus = []\n",
    "train_corpus = []\n",
    "test_corpus = []\n",
    "\n",
    "for string in text:\n",
    "   words = string.split()\n",
    "   one_grams = [\" \".join(words[i:i+1])\n",
    "               for i in range(0, len(words), 1)]\n",
    "   corpus.append(one_grams)\n",
    "\n",
    "for string in text_train:\n",
    "   words = string.split()\n",
    "   one_grams = [\" \".join(words[i:i+1])\n",
    "               for i in range(0, len(words), 1)]\n",
    "   train_corpus.append(one_grams)\n",
    "\n",
    "for string in text_test:\n",
    "   words = string.split()\n",
    "   one_grams = [\" \".join(words[i:i+1])\n",
    "               for i in range(0, len(words), 1)]\n",
    "   test_corpus.append(one_grams)\n",
    "\n",
    "\n",
    "## tokenize text\n",
    "tokenizer = kprocessing.text.Tokenizer(lower=True, split=' ', \n",
    "                     oov_token=\"NaN\", \n",
    "                     filters='!\"#$%&()*+,-./:;<=>?@[\\\\]^_`{|}~\\t\\n')\n",
    "\n",
    "tokenizer.fit_on_texts(corpus)\n",
    "dic_vocabulary = tokenizer.word_index"
   ]
  },
  {
   "cell_type": "code",
   "execution_count": 77,
   "metadata": {},
   "outputs": [],
   "source": [
    "## create sequence\n",
    "lst_text2seq= tokenizer.texts_to_sequences(train_corpus)\n",
    "## padding sequence\n",
    "X_train = kprocessing.sequence.pad_sequences(lst_text2seq, \n",
    "                    maxlen=35, padding=\"post\", truncating=\"post\")\n",
    "\n",
    "# text to sequence with the fitted tokenizer\n",
    "lst_text2seq = tokenizer.texts_to_sequences(test_corpus)\n",
    "## padding sequence\n",
    "X_test = kprocessing.sequence.pad_sequences(lst_text2seq, maxlen=35,\n",
    "             padding=\"post\", truncating=\"post\")\n"
   ]
  },
  {
   "cell_type": "code",
   "execution_count": 78,
   "metadata": {},
   "outputs": [],
   "source": [
    "nlp = gensim.models.word2vec.Word2Vec(corpus, vector_size=300, window=8, min_count=1, workers=4,sg=1)"
   ]
  },
  {
   "cell_type": "code",
   "execution_count": 79,
   "metadata": {},
   "outputs": [],
   "source": [
    "## start the matrix (length of vocabulary x vector size) with all 0s\n",
    "embeddings = np.zeros((len(dic_vocabulary)+1, 300))\n",
    "for word,idx in dic_vocabulary.items():\n",
    "    ## update the row with vector\n",
    "    try:\n",
    "        embeddings[idx] =  nlp.wv[word]\n",
    "    ## if word not in model then skip and the row stays all 0s\n",
    "    except:\n",
    "        pass"
   ]
  },
  {
   "cell_type": "code",
   "execution_count": 80,
   "metadata": {},
   "outputs": [],
   "source": [
    "# One hot encode y labels\n",
    "author_lb = LabelBinarizer()\n",
    "author_lb.fit(author_train)\n",
    "author_train_hot = author_lb.transform(author_train)\n",
    "author_test_hot = author_lb.transform(author_test)"
   ]
  },
  {
   "cell_type": "code",
   "execution_count": 81,
   "metadata": {},
   "outputs": [
    {
     "name": "stdout",
     "output_type": "stream",
     "text": [
      "(21933, 35)\n",
      "(5484, 35)\n",
      "(21933,)\n",
      "(5484,)\n"
     ]
    }
   ],
   "source": [
    "print(np.shape(X_train))\n",
    "print(np.shape(X_test))\n",
    "print(np.shape(author_train))\n",
    "print(np.shape(author_test))"
   ]
  },
  {
   "cell_type": "code",
   "execution_count": 82,
   "metadata": {},
   "outputs": [
    {
     "name": "stdout",
     "output_type": "stream",
     "text": [
      "Run: 1\n",
      "Epoch 1/10\n",
      "412/412 [==============================] - 16s 37ms/step - loss: 3.0125 - accuracy: 0.1253 - val_loss: 2.6007 - val_accuracy: 0.1934\n",
      "Epoch 2/10\n",
      "412/412 [==============================] - 15s 37ms/step - loss: 2.4908 - accuracy: 0.2213 - val_loss: 2.3876 - val_accuracy: 0.2577\n",
      "Epoch 3/10\n",
      "412/412 [==============================] - 16s 38ms/step - loss: 2.3419 - accuracy: 0.2638 - val_loss: 2.3153 - val_accuracy: 0.2796\n",
      "Epoch 4/10\n",
      "412/412 [==============================] - 15s 36ms/step - loss: 2.1962 - accuracy: 0.3082 - val_loss: 2.1289 - val_accuracy: 0.3274\n",
      "Epoch 5/10\n",
      "412/412 [==============================] - 15s 36ms/step - loss: 2.0901 - accuracy: 0.3396 - val_loss: 2.0934 - val_accuracy: 0.3411\n",
      "Epoch 6/10\n",
      "412/412 [==============================] - 15s 37ms/step - loss: 2.0350 - accuracy: 0.3544 - val_loss: 2.0295 - val_accuracy: 0.3677\n",
      "Epoch 7/10\n",
      "412/412 [==============================] - 15s 37ms/step - loss: 1.9628 - accuracy: 0.3812 - val_loss: 2.0439 - val_accuracy: 0.3568\n",
      "Epoch 8/10\n",
      "412/412 [==============================] - 15s 37ms/step - loss: 1.9192 - accuracy: 0.3974 - val_loss: 2.0027 - val_accuracy: 0.3746\n",
      "Epoch 9/10\n",
      "412/412 [==============================] - 15s 36ms/step - loss: 1.8889 - accuracy: 0.3997 - val_loss: 1.9791 - val_accuracy: 0.3862\n",
      "Epoch 10/10\n",
      "412/412 [==============================] - 15s 36ms/step - loss: 1.8403 - accuracy: 0.4215 - val_loss: 2.0143 - val_accuracy: 0.3835\n",
      "172/172 [==============================] - 2s 12ms/step\n",
      "Run: 2\n"
     ]
    },
    {
     "name": "stderr",
     "output_type": "stream",
     "text": [
      "c:\\Python39\\lib\\site-packages\\sklearn\\metrics\\_classification.py:1334: UndefinedMetricWarning: Precision and F-score are ill-defined and being set to 0.0 in labels with no predicted samples. Use `zero_division` parameter to control this behavior.\n",
      "  _warn_prf(average, modifier, msg_start, len(result))\n"
     ]
    },
    {
     "name": "stdout",
     "output_type": "stream",
     "text": [
      "Epoch 1/10\n",
      "412/412 [==============================] - 16s 37ms/step - loss: 2.9444 - accuracy: 0.1374 - val_loss: 2.5535 - val_accuracy: 0.1880\n",
      "Epoch 2/10\n",
      "412/412 [==============================] - 15s 36ms/step - loss: 2.4332 - accuracy: 0.2369 - val_loss: 2.2337 - val_accuracy: 0.3028\n",
      "Epoch 3/10\n",
      "412/412 [==============================] - 15s 36ms/step - loss: 2.1975 - accuracy: 0.3061 - val_loss: 2.1462 - val_accuracy: 0.3219\n",
      "Epoch 4/10\n",
      "412/412 [==============================] - 15s 36ms/step - loss: 2.0859 - accuracy: 0.3380 - val_loss: 2.1002 - val_accuracy: 0.3513\n",
      "Epoch 5/10\n",
      "412/412 [==============================] - 15s 36ms/step - loss: 2.0290 - accuracy: 0.3553 - val_loss: 2.0830 - val_accuracy: 0.3418\n",
      "Epoch 6/10\n",
      "412/412 [==============================] - 15s 36ms/step - loss: 1.9784 - accuracy: 0.3743 - val_loss: 2.0930 - val_accuracy: 0.3561\n",
      "Epoch 7/10\n",
      "412/412 [==============================] - 15s 36ms/step - loss: 1.9215 - accuracy: 0.3909 - val_loss: 2.0495 - val_accuracy: 0.3759\n",
      "Epoch 8/10\n",
      "412/412 [==============================] - 15s 36ms/step - loss: 1.8771 - accuracy: 0.4023 - val_loss: 1.9870 - val_accuracy: 0.3937\n",
      "Epoch 9/10\n",
      "412/412 [==============================] - 15s 36ms/step - loss: 1.8300 - accuracy: 0.4221 - val_loss: 1.9614 - val_accuracy: 0.3930\n",
      "Epoch 10/10\n",
      "412/412 [==============================] - 15s 36ms/step - loss: 1.7868 - accuracy: 0.4336 - val_loss: 1.9858 - val_accuracy: 0.4074\n",
      "172/172 [==============================] - 2s 12ms/step\n",
      "Run: 3\n"
     ]
    },
    {
     "name": "stderr",
     "output_type": "stream",
     "text": [
      "c:\\Python39\\lib\\site-packages\\sklearn\\metrics\\_classification.py:1334: UndefinedMetricWarning: Precision and F-score are ill-defined and being set to 0.0 in labels with no predicted samples. Use `zero_division` parameter to control this behavior.\n",
      "  _warn_prf(average, modifier, msg_start, len(result))\n"
     ]
    },
    {
     "name": "stdout",
     "output_type": "stream",
     "text": [
      "Epoch 1/10\n",
      "412/412 [==============================] - 16s 36ms/step - loss: 3.1138 - accuracy: 0.1171 - val_loss: 2.6323 - val_accuracy: 0.1244\n",
      "Epoch 2/10\n",
      "412/412 [==============================] - 15s 36ms/step - loss: 2.5875 - accuracy: 0.1841 - val_loss: 2.4214 - val_accuracy: 0.2242\n",
      "Epoch 3/10\n",
      "412/412 [==============================] - 15s 36ms/step - loss: 2.3882 - accuracy: 0.2462 - val_loss: 2.2130 - val_accuracy: 0.2973\n",
      "Epoch 4/10\n",
      "412/412 [==============================] - 15s 37ms/step - loss: 2.2435 - accuracy: 0.2923 - val_loss: 2.2175 - val_accuracy: 0.3062\n",
      "Epoch 5/10\n",
      "412/412 [==============================] - 15s 37ms/step - loss: 2.1572 - accuracy: 0.3245 - val_loss: 2.1296 - val_accuracy: 0.3383\n",
      "Epoch 6/10\n",
      "412/412 [==============================] - 14s 35ms/step - loss: 2.0809 - accuracy: 0.3486 - val_loss: 2.0334 - val_accuracy: 0.3780\n",
      "Epoch 7/10\n",
      "412/412 [==============================] - 15s 35ms/step - loss: 2.0288 - accuracy: 0.3650 - val_loss: 1.9922 - val_accuracy: 0.3807\n",
      "Epoch 8/10\n",
      "412/412 [==============================] - 14s 35ms/step - loss: 1.9689 - accuracy: 0.3811 - val_loss: 1.9719 - val_accuracy: 0.3958\n",
      "Epoch 9/10\n",
      "412/412 [==============================] - 14s 35ms/step - loss: 1.9273 - accuracy: 0.3925 - val_loss: 1.9893 - val_accuracy: 0.3930\n",
      "Epoch 10/10\n",
      "412/412 [==============================] - 14s 35ms/step - loss: 1.8812 - accuracy: 0.4010 - val_loss: 1.9818 - val_accuracy: 0.3787\n",
      "172/172 [==============================] - 2s 12ms/step\n",
      "Test Accuracy: [0.3699854121079504, 0.38074398249452956, 0.36323851203501095]\n",
      "Ave. Precision: [0.39378137967949445, 0.3912787011975165, 0.39580280727554207]\n",
      "Ave. Recall: [0.3699854121079504, 0.3807439824945296, 0.363238512035011]\n",
      "Ave. F1 Score: [0.3530462352025742, 0.3758328009153796, 0.3559644772704949]\n"
     ]
    },
    {
     "name": "stderr",
     "output_type": "stream",
     "text": [
      "c:\\Python39\\lib\\site-packages\\sklearn\\metrics\\_classification.py:1334: UndefinedMetricWarning: Precision and F-score are ill-defined and being set to 0.0 in labels with no predicted samples. Use `zero_division` parameter to control this behavior.\n",
      "  _warn_prf(average, modifier, msg_start, len(result))\n"
     ]
    }
   ],
   "source": [
    "# Sets seed\n",
    "np.random.seed(28)\n",
    "kf = KFold(n_splits = NUMBER_K_FOLDS)\n",
    "\n",
    "test_accuracy_list = []\n",
    "prec_list = []\n",
    "recall_list = []\n",
    "f1_list = []\n",
    "training_time_list = []\n",
    "prediction_time_list = []\n",
    "full_history =[]\n",
    "\n",
    "run = 0\n",
    "\n",
    "\n",
    "for train_inds, _ in kf.split(X_train):\n",
    "    run += 1\n",
    "    print('Run:', run)\n",
    "       \n",
    "    train_x = np.array([X_train[i] for i in train_inds])\n",
    "    train_y = np.array([author_train_hot[i] for i in train_inds])\n",
    "\n",
    "   # train_x = train_x[...,None]\n",
    "    #train_x.shape\n",
    "       \n",
    "    t0 = time.time()\n",
    "    # Fit model\n",
    "    siamese_model = define_model(35, 22,embedding_dims= embeddings, verbose = False, learning=LEARNING_RATE)\n",
    "\n",
    "    histroy = siamese_model.fit([train_x,train_x], train_y, epochs=EPOCH_LENGTH, batch_size=BATCH_SIZE, verbose = VERBOSE,validation_split = VALIDATION_PERCENTAGE)\n",
    "  \n",
    "    t1 = time.time()\n",
    "    \n",
    "    # Predict values for test set\n",
    "    author_pred1 = siamese_model.predict([X_test,X_test])\n",
    "    author_pred1 = author_lb.inverse_transform(author_pred1)\n",
    "\n",
    "    t2 = time.time()\n",
    "\n",
    "    # Evaluate\n",
    "    test_accuracy = accuracy_score(author_test, author_pred1)\n",
    "    precision, recall, f1, support = score(author_test, author_pred1)\n",
    "    ave_precision = np.average(precision, weights = support/np.sum(support))\n",
    "    ave_recall = np.average(recall, weights = support/np.sum(support))\n",
    "    ave_f1 = np.average(f1, weights = support/np.sum(support))\n",
    "    training_time = (t1 - t0)\n",
    "    prediction_time = (t2 - t1)\n",
    "    \n",
    "    test_accuracy_list.append(test_accuracy)\n",
    "    prec_list.append(ave_precision)\n",
    "    recall_list.append(ave_recall)\n",
    "    f1_list.append(ave_f1)\n",
    "    training_time_list.append(training_time)\n",
    "    prediction_time_list.append(prediction_time)\n",
    "    full_history.append(histroy)\n",
    "\n",
    "print(\"Test Accuracy:\", test_accuracy_list)\n",
    "print(\"Ave. Precision:\", prec_list)\n",
    "print(\"Ave. Recall:\", recall_list)\n",
    "print(\"Ave. F1 Score:\", f1_list)"
   ]
  },
  {
   "cell_type": "code",
   "execution_count": 83,
   "metadata": {},
   "outputs": [
    {
     "name": "stdout",
     "output_type": "stream",
     "text": [
      "Average Accuracy across K-folds: 0.37132263554583034\n",
      "Average Precision across K-folds: 0.39362096271751773\n",
      "Average Recall across K-folds: 0.37132263554583034\n",
      "Average F1 Score across K-folds: 0.36161450446281623\n",
      "Average Training Time across K-folds: 147.9939968585968 seconds\n",
      "Prediction Time across K-folds: 2.2307217121124268 seconds\n"
     ]
    }
   ],
   "source": [
    "#Get averages for kfold runs\n",
    "mean_accuracy_across_kfold = np.mean(test_accuracy_list)\n",
    "mean_percision_across_kfold = np.mean(prec_list)\n",
    "mean_recall_across_kfold = np.mean(recall_list)\n",
    "mean_f1_across_kfold = np.mean(f1_list)\n",
    "\n",
    "\n",
    "print(\"Average Accuracy across K-folds:\", mean_accuracy_across_kfold)\n",
    "print(\"Average Precision across K-folds:\", mean_percision_across_kfold)\n",
    "print(\"Average Recall across K-folds:\", mean_recall_across_kfold)\n",
    "print(\"Average F1 Score across K-folds:\", mean_f1_across_kfold)\n",
    "print(\"Average Training Time across K-folds:\", (t1 - t0), \"seconds\")\n",
    "print(\"Prediction Time across K-folds:\", (t2 - t1), \"seconds\")"
   ]
  },
  {
   "cell_type": "code",
   "execution_count": 84,
   "metadata": {},
   "outputs": [],
   "source": [
    "average_test_loss_accross_kfold = []\n",
    "average_validation_loss_accross_kfold = []\n",
    "average_test_accuracy_accross_kfold = []\n",
    "average_validation_accuracy_accross_kfold = []\n",
    "\n",
    "for i in range(len(full_history)):\n",
    "    average_test_loss_accross_kfold.append(full_history[i].history['loss'])\n",
    "    average_validation_loss_accross_kfold.append(full_history[i].history['val_loss'])\n",
    "\n",
    "    average_test_accuracy_accross_kfold.append(full_history[i].history['accuracy'])\n",
    "    average_validation_accuracy_accross_kfold.append(full_history[i].history['val_accuracy'])\n",
    "\n",
    "average_loss_accross_kfold = np.mean(average_test_loss_accross_kfold,axis=0)\n",
    "average_validation_loss_accross_kfold = np.mean(average_validation_loss_accross_kfold,axis=0)\n",
    "\n",
    "average_accuracy_accross_kfold = np.mean(average_test_accuracy_accross_kfold,axis=0)\n",
    "average_validation_accuracy_accross_kfold = np.mean(average_validation_accuracy_accross_kfold,axis=0)\n"
   ]
  },
  {
   "cell_type": "code",
   "execution_count": 85,
   "metadata": {},
   "outputs": [
    {
     "name": "stderr",
     "output_type": "stream",
     "text": [
      "The PostScript backend does not support transparency; partially transparent artists will be rendered opaque.\n"
     ]
    },
    {
     "data": {
      "image/png": "[encoded data removed]",
      "text/plain": [
       "<Figure size 640x480 with 1 Axes>"
      ]
     },
     "metadata": {},
     "output_type": "display_data"
    }
   ],
   "source": [
    "# summarize history for accuracy\n",
    "plt.plot(average_accuracy_accross_kfold)\n",
    "plt.plot(average_validation_accuracy_accross_kfold)\n",
    "plt.title('Siamese Network Accuracy')\n",
    "plt.ylabel('accuracy')\n",
    "plt.xlabel('epoch')\n",
    "plt.legend(['Train', 'Validation'], loc='upper left')\n",
    "plt.savefig(\"outputs/siamases_network_acc.eps\", format='eps')\n",
    "plt.show()\n",
    "\n",
    "\n"
   ]
  },
  {
   "cell_type": "code",
   "execution_count": 86,
   "metadata": {},
   "outputs": [
    {
     "name": "stderr",
     "output_type": "stream",
     "text": [
      "The PostScript backend does not support transparency; partially transparent artists will be rendered opaque.\n"
     ]
    },
    {
     "data": {
      "image/png": "[encoded data removed]",
      "text/plain": [
       "<Figure size 640x480 with 1 Axes>"
      ]
     },
     "metadata": {},
     "output_type": "display_data"
    }
   ],
   "source": [
    "# summarize history for loss\n",
    "plt.plot(average_loss_accross_kfold)\n",
    "plt.plot(average_validation_loss_accross_kfold)\n",
    "plt.title('Siamese Network loss')\n",
    "plt.ylabel('loss')\n",
    "plt.xlabel('epoch')\n",
    "plt.legend(['Train', 'Validation'], loc='upper left')\n",
    "plt.savefig(\"outputs/siamese_network_loss.eps\", format='eps')\n",
    "plt.show()\n"
   ]
  }
 ],
 "metadata": {
  "kernelspec": {
   "display_name": "Python 3.9.6 64-bit",
   "language": "python",
   "name": "python3"
  },
  "language_info": {
   "codemirror_mode": {
    "name": "ipython",
    "version": 3
   },
   "file_extension": ".py",
   "mimetype": "text/x-python",
   "name": "python",
   "nbconvert_exporter": "python",
   "pygments_lexer": "ipython3",
   "version": "3.9.6"
  },
  "orig_nbformat": 4,
  "vscode": {
   "interpreter": {
    "hash": "81794d4967e6c3204c66dcd87b604927b115b27c00565d3d43f05ba2f3a2cb0d"
   }
  }
 },
 "nbformat": 4,
 "nbformat_minor": 2
}
