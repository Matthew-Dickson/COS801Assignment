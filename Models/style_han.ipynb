{
 "cells": [
  {
   "cell_type": "code",
   "execution_count": 40,
   "metadata": {},
   "outputs": [],
   "source": [
    "# Import packages\n",
    "import numpy as np\n",
    "import pandas as pd\n",
    "import matplotlib.pyplot as plt\n",
    "import time\n",
    "import nltk\n",
    "from sklearn.model_selection import train_test_split, KFold\n",
    "from sklearn.metrics import accuracy_score\n",
    "from sklearn.metrics import precision_recall_fscore_support as score\n",
    "from sklearn.preprocessing import LabelBinarizer\n",
    "from keras.layers import Input, Dense, Flatten, Embedding, LSTM, Bidirectional\n",
    "from keras.layers.convolutional import Conv1D, MaxPooling1D\n",
    "from tensorflow.keras.layers import concatenate,Layer\n",
    "from keras.optimizers import Adam\n",
    "from keras.preprocessing.text import Tokenizer,  text_to_word_sequence\n",
    "from keras import initializers as initializers, regularizers\n",
    "from keras.models import Model\n",
    "import re\n",
    "from nltk import tokenize\n",
    "from keras_self_attention import SeqSelfAttention"
   ]
  },
  {
   "cell_type": "code",
   "execution_count": 41,
   "metadata": {},
   "outputs": [],
   "source": [
    "def clean_str(string):\n",
    "    \"\"\"\n",
    "    Tokenization/string cleaning for dataset\n",
    "    Every dataset is lower cased except\n",
    "    \"\"\"\n",
    "    string = re.sub(r\"\\\\\", \"\", string)    \n",
    "    string = re.sub(r\"\\'\", \"\", string)    \n",
    "    string = re.sub(r\"\\\"\", \"\", string)    \n",
    "    return string.strip().lower()"
   ]
  },
  {
   "cell_type": "code",
   "execution_count": 42,
   "metadata": {},
   "outputs": [],
   "source": [
    "#Parameters\n",
    "FILE_NAME = \"../Data/processed_tagged_data.csv\"\n",
    "Y_LABEL_NAME=\"username\"\n",
    "X_LABEL_NAME=\"raw_text\"\n",
    "OUTPUT_CLASSES = 22\n",
    "\n",
    "SEQUENCE_LENGTH = 35\n",
    "MAX_SENTENCE_NUMBER = 1\n",
    "EMBEDDING_DIMENSIONS =100\n",
    "BATCH_SIZE = 32\n",
    "EPOCH_LENGTH = 10\n",
    "NUMBER_K_FOLDS = 3\n",
    "LEARNING_RATE = 0.0005\n",
    "VALIDATION_PERCENTAGE = 0.1\n",
    "TEST_SIZE_PERCENTAGE = 0.2\n",
    "L2_REG = regularizers.l2(1e-13)\n",
    "\n",
    "COV_FILTERS = 50\n",
    "KERNEL_SIZES = 3\n",
    "\n",
    "VERBOSE = 1\n",
    "\n",
    "MAX_FEATURES = 50000\n",
    "max_senten_num=1\n",
    "embed_size=100\n"
   ]
  },
  {
   "cell_type": "code",
   "execution_count": 43,
   "metadata": {},
   "outputs": [],
   "source": [
    "#Read data\n",
    "data = pd.read_csv(FILE_NAME)"
   ]
  },
  {
   "cell_type": "code",
   "execution_count": 44,
   "metadata": {},
   "outputs": [],
   "source": [
    "#Get text and y label\n",
    "x = data[[X_LABEL_NAME,\"CC\",\"CD\",\"DT\",\"EX\",\"FW\",\"IN\",\n",
    "\"JJ\",\"JJR\",\"JJS\",\"LS\",\"MD\",\"NN\",\"NNS\",\"NNP\",\"NNPS\",\"PDT\",\"POS\",\"PRP\",\"PRP$\",\n",
    "\"RB\",\"RBR\",\"RP\",\"SYM\",\"TO\",\"UH\",\"VB\",\"VBD\",\"VBG\",\"VBN\",\"VBP\",\"VBZ\",\"WDT\",\"WP\",\n",
    "\"WP$\",\"WRB\"]]\n",
    "author = data[Y_LABEL_NAME]"
   ]
  },
  {
   "cell_type": "code",
   "execution_count": 45,
   "metadata": {},
   "outputs": [],
   "source": [
    "#Tokenize data\n",
    "tokenizer = Tokenizer(num_words=MAX_FEATURES, oov_token=True)\n",
    "tokenizer.fit_on_texts(x[X_LABEL_NAME])"
   ]
  },
  {
   "cell_type": "code",
   "execution_count": 46,
   "metadata": {},
   "outputs": [],
   "source": [
    "paras = []\n",
    "labels = []\n",
    "texts = []"
   ]
  },
  {
   "cell_type": "code",
   "execution_count": 47,
   "metadata": {},
   "outputs": [],
   "source": [
    "sent_lens = []\n",
    "sent_nums = []\n",
    "for idx in range(data[X_LABEL_NAME].shape[0]):\n",
    "    text = clean_str(data[X_LABEL_NAME][idx])\n",
    "    texts.append(text)\n",
    "    sentences = tokenize.sent_tokenize(text)\n",
    "    sent_nums.append(len(sentences))\n",
    "    for sent in sentences:\n",
    "        sent_lens.append(len(text_to_word_sequence(sent)))\n",
    "    paras.append(sentences)"
   ]
  },
  {
   "cell_type": "code",
   "execution_count": 48,
   "metadata": {},
   "outputs": [],
   "source": [
    "\n",
    "embedding = np.zeros((len(x[X_LABEL_NAME]), max_senten_num, SEQUENCE_LENGTH), dtype='int32')\n",
    "for i, sentences in enumerate(paras):\n",
    "    for j, sent in enumerate(sentences):\n",
    "        if j< max_senten_num:\n",
    "            wordTokens = text_to_word_sequence(sent)\n",
    "            k=0\n",
    "            for _, word in enumerate(wordTokens):\n",
    "                try:\n",
    "                    if k<SEQUENCE_LENGTH and tokenizer.word_index[word]<MAX_FEATURES:\n",
    "                        embedding[i,j,k] = tokenizer.word_index[word]\n",
    "                        k=k+1\n",
    "                except:\n",
    "                    #print(word)\n",
    "                    pass"
   ]
  },
  {
   "cell_type": "code",
   "execution_count": 49,
   "metadata": {},
   "outputs": [
    {
     "name": "stdout",
     "output_type": "stream",
     "text": [
      "Total 24835 unique tokens.\n"
     ]
    }
   ],
   "source": [
    "word_index = tokenizer.word_index\n",
    "print('Total %s unique tokens.' % len(word_index))"
   ]
  },
  {
   "cell_type": "code",
   "execution_count": 50,
   "metadata": {},
   "outputs": [
    {
     "name": "stdout",
     "output_type": "stream",
     "text": [
      "Total 400000 word vectors.\n"
     ]
    }
   ],
   "source": [
    "GLOVE_DIR = \"./embeddings/glove.6B.100d.txt\"\n",
    "embeddings_index = {}\n",
    "f = open(GLOVE_DIR,encoding=\"utf8\")\n",
    "for line in f:\n",
    "    try:\n",
    "        values = line.split()\n",
    "        word = values[0]\n",
    "        coefs = np.asarray(values[1:], dtype='float32')\n",
    "        embeddings_index[word] = coefs\n",
    "    except:\n",
    "        print(word)\n",
    "        pass\n",
    "f.close()\n",
    "print('Total %s word vectors.' % len(embeddings_index))"
   ]
  },
  {
   "cell_type": "code",
   "execution_count": 51,
   "metadata": {},
   "outputs": [
    {
     "name": "stdout",
     "output_type": "stream",
     "text": [
      "Total absent words are 9024 which is 36.34 % of total words\n"
     ]
    }
   ],
   "source": [
    "embedding_matrix = np.zeros((len(word_index) + 1, embed_size))\n",
    "absent_words = 0\n",
    "for word, i in word_index.items():\n",
    "    embedding_vector = embeddings_index.get(word)\n",
    "    if embedding_vector is not None:\n",
    "        # words not found in embedding index will be all-zeros.\n",
    "        embedding_matrix[i] = embedding_vector\n",
    "    else:\n",
    "        absent_words += 1\n",
    "print('Total absent words are', absent_words, 'which is', \"%0.2f\" % (absent_words * 100 / len(word_index)), '% of total words')"
   ]
  },
  {
   "cell_type": "code",
   "execution_count": 52,
   "metadata": {},
   "outputs": [],
   "source": [
    "#Build glove embedding layer\n",
    "embedding_layer = Embedding(len(word_index) + 1,embed_size, weights=[embedding_matrix], input_length=SEQUENCE_LENGTH, trainable=False)"
   ]
  },
  {
   "cell_type": "code",
   "execution_count": 53,
   "metadata": {},
   "outputs": [],
   "source": [
    "def define_model(input_len1,input_len2, output_size, vocab_sizes, embedding_dims = 100, verbose = True,\n",
    "                drop_out_pct = 0.25, conv_filters = 50, kernel_sizes = 3, lstm_layers_size = 100, cnn_activation_fn = 'relu',lstm_activation_fn = 'tanh', output_activation = \"softmax\",\n",
    "                 pool_sizes = 1, learning = 0.0005,l2_reg=regularizers.l2(1e-13)):\n",
    "\n",
    "    #HAN one\n",
    "    input1 = Input(shape=(input_len1), dtype='float32')\n",
    "    embedding1 = embedding_layer(input1)\n",
    "    #CNN\n",
    "    conv1_1 = Conv1D(filters = conv_filters, kernel_size = kernel_sizes, activation = cnn_activation_fn, padding='same')(embedding1)\n",
    "    pool1 = MaxPooling1D(pool_size = pool_sizes)(conv1_1)\n",
    "    #LSTM\n",
    "    lstm1_1 = Bidirectional(LSTM(lstm_layers_size, return_sequences=True, kernel_regularizer=l2_reg,activation = lstm_activation_fn))(pool1)\n",
    "    \n",
    "    \n",
    "\n",
    "    #HAN two\n",
    "    input2 = Input(shape=(input_len2), dtype='float32')\n",
    "    embedding2 = Embedding(vocab_sizes ,embedding_dims)(input2)\n",
    "    #CNN\n",
    "    conv2_1 = Conv1D(filters = conv_filters, kernel_size = kernel_sizes, activation = cnn_activation_fn, padding='same')(embedding2)\n",
    "    pool2 = MaxPooling1D(pool_size = pool_sizes)(conv2_1)\n",
    "    #LSTM\n",
    "    lstm2_1 = Bidirectional(LSTM(lstm_layers_size, return_sequences=True, kernel_regularizer=l2_reg,activation = lstm_activation_fn))(pool2)\n",
    "\n",
    "\n",
    "    #Merge channels\n",
    "    merged = concatenate([lstm1_1, lstm2_1])\n",
    "    attention = SeqSelfAttention()(merged)\n",
    "    attention = Flatten()(attention)\n",
    "\n",
    "    output = Dense(output_size, activation = output_activation)(attention)\n",
    "    #output = Flatten()(output)\n",
    "    model = Model([input1,input2], output)\n",
    "\n",
    "    #Compile model\n",
    "    model.compile(loss='categorical_crossentropy', optimizer = Adam(learning_rate = learning), metrics=['accuracy'])\n",
    "    \n",
    "    if verbose:\n",
    "        print(model.summary())\n",
    "        \n",
    "    return model"
   ]
  },
  {
   "cell_type": "code",
   "execution_count": 54,
   "metadata": {},
   "outputs": [],
   "source": [
    "#Split data\n",
    "x_train, x_test, author_train, author_test = train_test_split(x, author, test_size = TEST_SIZE_PERCENTAGE, random_state = 5)"
   ]
  },
  {
   "cell_type": "code",
   "execution_count": 55,
   "metadata": {},
   "outputs": [
    {
     "name": "stdout",
     "output_type": "stream",
     "text": [
      "(21933, 36)\n",
      "(5484, 36)\n",
      "(21933,)\n",
      "(5484,)\n"
     ]
    }
   ],
   "source": [
    "# Check shapes of created datasets\n",
    "print(np.shape(x_train))\n",
    "print(np.shape(x_test))\n",
    "print(np.shape(author_train))\n",
    "print(np.shape(author_test))"
   ]
  },
  {
   "cell_type": "code",
   "execution_count": 56,
   "metadata": {},
   "outputs": [],
   "source": [
    "text_train = x_train[X_LABEL_NAME].to_numpy()\n",
    "text_test = x_test[X_LABEL_NAME].to_numpy()\n",
    "pos_train_features = x_train[x_train.columns[1:]]\n",
    "pos_test_features = x_test[x_test.columns[1:]]"
   ]
  },
  {
   "cell_type": "code",
   "execution_count": 57,
   "metadata": {},
   "outputs": [],
   "source": [
    "Syntaxical_length = pos_train_features.shape[1]"
   ]
  },
  {
   "cell_type": "code",
   "execution_count": 58,
   "metadata": {},
   "outputs": [
    {
     "data": {
      "text/plain": [
       "35"
      ]
     },
     "execution_count": 58,
     "metadata": {},
     "output_type": "execute_result"
    }
   ],
   "source": [
    "Syntaxical_length"
   ]
  },
  {
   "cell_type": "code",
   "execution_count": 59,
   "metadata": {},
   "outputs": [],
   "source": [
    "paras = []\n",
    "labels = []\n",
    "texts = []"
   ]
  },
  {
   "cell_type": "code",
   "execution_count": 60,
   "metadata": {},
   "outputs": [],
   "source": [
    "#Generating lexical train input\n",
    "sent_lens = []\n",
    "sent_nums = []\n",
    "for idx in range(len(text_train)):\n",
    "    text = clean_str(text_train[idx])\n",
    "    texts.append(text)\n",
    "    sentences = tokenize.sent_tokenize(text)\n",
    "    sent_nums.append(len(sentences))\n",
    "    for sent in sentences:\n",
    "        sent_lens.append(len(text_to_word_sequence(sent)))\n",
    "    paras.append(sentences)"
   ]
  },
  {
   "cell_type": "code",
   "execution_count": 61,
   "metadata": {},
   "outputs": [],
   "source": [
    "text_train = np.zeros((len(text_train), max_senten_num, SEQUENCE_LENGTH), dtype='int32')\n",
    "for i, sentences in enumerate(paras):\n",
    "    for j, sent in enumerate(sentences):\n",
    "        if j< max_senten_num:\n",
    "            wordTokens = text_to_word_sequence(sent)\n",
    "            k=0\n",
    "            for _, word in enumerate(wordTokens):\n",
    "                try:\n",
    "                    if k<SEQUENCE_LENGTH and tokenizer.word_index[word]<MAX_FEATURES:\n",
    "                        text_train[i,j,k] = tokenizer.word_index[word]\n",
    "                        k=k+1\n",
    "                except:\n",
    "                    #print(word)\n",
    "                    pass"
   ]
  },
  {
   "cell_type": "code",
   "execution_count": 62,
   "metadata": {},
   "outputs": [],
   "source": [
    "paras = []\n",
    "labels = []\n",
    "texts = []"
   ]
  },
  {
   "cell_type": "code",
   "execution_count": 63,
   "metadata": {},
   "outputs": [],
   "source": [
    "sent_lens = []\n",
    "sent_nums = []\n",
    "for idx in range(len(text_test)):\n",
    "    text = clean_str(text_test[idx])\n",
    "    texts.append(text)\n",
    "    sentences = tokenize.sent_tokenize(text)\n",
    "    sent_nums.append(len(sentences))\n",
    "    for sent in sentences:\n",
    "        sent_lens.append(len(text_to_word_sequence(sent)))\n",
    "    paras.append(sentences)"
   ]
  },
  {
   "cell_type": "code",
   "execution_count": 64,
   "metadata": {},
   "outputs": [],
   "source": [
    "#Generating lexical test input\n",
    "text_test = np.zeros((len(text_test), max_senten_num, SEQUENCE_LENGTH), dtype='int32')\n",
    "for i, sentences in enumerate(paras):\n",
    "    for j, sent in enumerate(sentences):\n",
    "        if j< max_senten_num:\n",
    "            wordTokens = text_to_word_sequence(sent)\n",
    "            k=0\n",
    "            for _, word in enumerate(wordTokens):\n",
    "                try:\n",
    "                    if k<SEQUENCE_LENGTH and tokenizer.word_index[word]<MAX_FEATURES:\n",
    "                        text_test[i,j,k] = tokenizer.word_index[word]\n",
    "                        k=k+1\n",
    "                except:\n",
    "                    #print(word)\n",
    "                    pass"
   ]
  },
  {
   "cell_type": "code",
   "execution_count": 65,
   "metadata": {},
   "outputs": [],
   "source": [
    "pos_train_features = pos_train_features.to_numpy()\n",
    "pos_test_features = pos_test_features.to_numpy()"
   ]
  },
  {
   "cell_type": "code",
   "execution_count": 66,
   "metadata": {},
   "outputs": [
    {
     "data": {
      "text/plain": [
       "(5484, 1, 35)"
      ]
     },
     "execution_count": 66,
     "metadata": {},
     "output_type": "execute_result"
    }
   ],
   "source": [
    "text_test.shape"
   ]
  },
  {
   "cell_type": "code",
   "execution_count": 67,
   "metadata": {},
   "outputs": [],
   "source": [
    "# pos_train_features = pos_train_features[:,None]\n",
    "# pos_test_features = pos_test_features[:,None]"
   ]
  },
  {
   "cell_type": "code",
   "execution_count": 68,
   "metadata": {},
   "outputs": [],
   "source": [
    "text_train = text_train.squeeze()\n",
    "text_test = text_test.squeeze() "
   ]
  },
  {
   "cell_type": "code",
   "execution_count": 69,
   "metadata": {},
   "outputs": [
    {
     "name": "stdout",
     "output_type": "stream",
     "text": [
      "(21933, 35)\n",
      "(5484, 35)\n"
     ]
    }
   ],
   "source": [
    "print(np.shape(pos_train_features))\n",
    "print(np.shape(pos_test_features))"
   ]
  },
  {
   "cell_type": "code",
   "execution_count": 70,
   "metadata": {},
   "outputs": [
    {
     "name": "stdout",
     "output_type": "stream",
     "text": [
      "(21933, 35)\n",
      "(5484, 35)\n"
     ]
    }
   ],
   "source": [
    "print(np.shape(text_train))\n",
    "print(np.shape(text_test))"
   ]
  },
  {
   "cell_type": "code",
   "execution_count": 71,
   "metadata": {},
   "outputs": [],
   "source": [
    "# One hot encode y labels\n",
    "author_lb = LabelBinarizer()\n",
    "author_lb.fit(author_train)\n",
    "author_train_hot = author_lb.transform(author_train)\n",
    "author_test_hot = author_lb.transform(author_test)"
   ]
  },
  {
   "cell_type": "code",
   "execution_count": 72,
   "metadata": {},
   "outputs": [
    {
     "name": "stdout",
     "output_type": "stream",
     "text": [
      "(5484, 35)\n",
      "(5484, 35)\n"
     ]
    }
   ],
   "source": [
    "print(text_test.shape)\n",
    "print(pos_test_features.shape)"
   ]
  },
  {
   "cell_type": "code",
   "execution_count": 73,
   "metadata": {},
   "outputs": [
    {
     "name": "stdout",
     "output_type": "stream",
     "text": [
      "(21933, 22)\n",
      "(5484, 22)\n"
     ]
    }
   ],
   "source": [
    "print(author_train_hot.shape)\n",
    "print(author_test_hot.shape)"
   ]
  },
  {
   "cell_type": "code",
   "execution_count": 74,
   "metadata": {},
   "outputs": [
    {
     "name": "stdout",
     "output_type": "stream",
     "text": [
      "Run: 1\n",
      "Epoch 1/10\n",
      "412/412 [==============================] - 116s 258ms/step - loss: 2.3937 - accuracy: 0.2491 - val_loss: 2.1029 - val_accuracy: 0.3342\n",
      "Epoch 2/10\n",
      "412/412 [==============================] - 105s 255ms/step - loss: 1.9846 - accuracy: 0.3773 - val_loss: 1.9373 - val_accuracy: 0.3910\n",
      "Epoch 3/10\n",
      "412/412 [==============================] - 105s 256ms/step - loss: 1.8135 - accuracy: 0.4297 - val_loss: 1.9132 - val_accuracy: 0.4060\n",
      "Epoch 4/10\n",
      "412/412 [==============================] - 105s 256ms/step - loss: 1.6929 - accuracy: 0.4669 - val_loss: 1.8710 - val_accuracy: 0.4163\n",
      "Epoch 5/10\n",
      "412/412 [==============================] - 106s 256ms/step - loss: 1.5960 - accuracy: 0.4946 - val_loss: 1.9207 - val_accuracy: 0.4081\n",
      "Epoch 6/10\n",
      "412/412 [==============================] - 105s 256ms/step - loss: 1.5231 - accuracy: 0.5183 - val_loss: 1.8607 - val_accuracy: 0.4354\n",
      "Epoch 7/10\n",
      "412/412 [==============================] - 105s 256ms/step - loss: 1.4452 - accuracy: 0.5407 - val_loss: 1.8989 - val_accuracy: 0.4272\n",
      "Epoch 8/10\n",
      "412/412 [==============================] - 106s 258ms/step - loss: 1.3855 - accuracy: 0.5609 - val_loss: 1.9734 - val_accuracy: 0.4156\n",
      "Epoch 9/10\n",
      "412/412 [==============================] - 106s 258ms/step - loss: 1.3252 - accuracy: 0.5761 - val_loss: 2.0076 - val_accuracy: 0.4272\n",
      "Epoch 10/10\n",
      "412/412 [==============================] - 106s 258ms/step - loss: 1.2715 - accuracy: 0.5943 - val_loss: 2.0032 - val_accuracy: 0.4197\n",
      "172/172 [==============================] - 11s 53ms/step\n",
      "Run: 2\n"
     ]
    },
    {
     "name": "stderr",
     "output_type": "stream",
     "text": [
      "c:\\Python39\\lib\\site-packages\\sklearn\\metrics\\_classification.py:1334: UndefinedMetricWarning: Precision and F-score are ill-defined and being set to 0.0 in labels with no predicted samples. Use `zero_division` parameter to control this behavior.\n",
      "  _warn_prf(average, modifier, msg_start, len(result))\n"
     ]
    },
    {
     "name": "stdout",
     "output_type": "stream",
     "text": [
      "Epoch 1/10\n",
      "412/412 [==============================] - 116s 265ms/step - loss: 2.3884 - accuracy: 0.2483 - val_loss: 2.1169 - val_accuracy: 0.3172\n",
      "Epoch 2/10\n",
      "412/412 [==============================] - 107s 260ms/step - loss: 1.9848 - accuracy: 0.3781 - val_loss: 1.9833 - val_accuracy: 0.3807\n",
      "Epoch 3/10\n",
      "412/412 [==============================] - 108s 261ms/step - loss: 1.8131 - accuracy: 0.4295 - val_loss: 1.9101 - val_accuracy: 0.4094\n",
      "Epoch 4/10\n",
      "412/412 [==============================] - 107s 261ms/step - loss: 1.7003 - accuracy: 0.4617 - val_loss: 1.9063 - val_accuracy: 0.4094\n",
      "Epoch 5/10\n",
      "412/412 [==============================] - 108s 263ms/step - loss: 1.6096 - accuracy: 0.4867 - val_loss: 1.8566 - val_accuracy: 0.4252\n",
      "Epoch 6/10\n",
      "412/412 [==============================] - 108s 262ms/step - loss: 1.5257 - accuracy: 0.5152 - val_loss: 1.8715 - val_accuracy: 0.4299\n",
      "Epoch 7/10\n",
      "412/412 [==============================] - 107s 260ms/step - loss: 1.4562 - accuracy: 0.5365 - val_loss: 1.9232 - val_accuracy: 0.4135\n",
      "Epoch 8/10\n",
      "412/412 [==============================] - 107s 260ms/step - loss: 1.3987 - accuracy: 0.5550 - val_loss: 1.9501 - val_accuracy: 0.4163\n",
      "Epoch 9/10\n",
      "412/412 [==============================] - 107s 261ms/step - loss: 1.3403 - accuracy: 0.5750 - val_loss: 1.9585 - val_accuracy: 0.4334\n",
      "Epoch 10/10\n",
      "412/412 [==============================] - 108s 263ms/step - loss: 1.2843 - accuracy: 0.5886 - val_loss: 1.9937 - val_accuracy: 0.4416\n",
      "172/172 [==============================] - 10s 54ms/step\n",
      "Run: 3\n"
     ]
    },
    {
     "name": "stderr",
     "output_type": "stream",
     "text": [
      "c:\\Python39\\lib\\site-packages\\sklearn\\metrics\\_classification.py:1334: UndefinedMetricWarning: Precision and F-score are ill-defined and being set to 0.0 in labels with no predicted samples. Use `zero_division` parameter to control this behavior.\n",
      "  _warn_prf(average, modifier, msg_start, len(result))\n"
     ]
    },
    {
     "name": "stdout",
     "output_type": "stream",
     "text": [
      "Epoch 1/10\n",
      "412/412 [==============================] - 118s 273ms/step - loss: 2.4085 - accuracy: 0.2411 - val_loss: 2.0921 - val_accuracy: 0.3308\n",
      "Epoch 2/10\n",
      "412/412 [==============================] - 111s 270ms/step - loss: 1.9901 - accuracy: 0.3691 - val_loss: 1.8904 - val_accuracy: 0.3971\n",
      "Epoch 3/10\n",
      "412/412 [==============================] - 117s 283ms/step - loss: 1.8223 - accuracy: 0.4216 - val_loss: 1.8435 - val_accuracy: 0.4115\n",
      "Epoch 4/10\n",
      "412/412 [==============================] - 119s 288ms/step - loss: 1.7035 - accuracy: 0.4570 - val_loss: 1.8856 - val_accuracy: 0.4258\n",
      "Epoch 5/10\n",
      "412/412 [==============================] - 118s 288ms/step - loss: 1.6248 - accuracy: 0.4820 - val_loss: 1.8052 - val_accuracy: 0.4450\n",
      "Epoch 6/10\n",
      "412/412 [==============================] - 119s 289ms/step - loss: 1.5370 - accuracy: 0.5081 - val_loss: 1.8575 - val_accuracy: 0.4422\n",
      "Epoch 7/10\n",
      "412/412 [==============================] - 119s 288ms/step - loss: 1.4734 - accuracy: 0.5323 - val_loss: 1.8473 - val_accuracy: 0.4566\n",
      "Epoch 8/10\n",
      "412/412 [==============================] - 120s 290ms/step - loss: 1.4025 - accuracy: 0.5532 - val_loss: 1.8548 - val_accuracy: 0.4703\n",
      "Epoch 9/10\n",
      "412/412 [==============================] - 121s 294ms/step - loss: 1.3433 - accuracy: 0.5687 - val_loss: 1.8975 - val_accuracy: 0.4593\n",
      "Epoch 10/10\n",
      "412/412 [==============================] - 121s 295ms/step - loss: 1.2883 - accuracy: 0.5865 - val_loss: 1.9901 - val_accuracy: 0.4539\n",
      "172/172 [==============================] - 11s 52ms/step\n",
      "Test Accuracy: [0.4416484318016047, 0.4352662290299052, 0.4416484318016047]\n",
      "Ave. Precision: [0.45507635251438794, 0.4612444674775191, 0.45466257034480695]\n",
      "Ave. Recall: [0.4416484318016048, 0.4352662290299052, 0.44164843180160474]\n",
      "Ave. F1 Score: [0.4391036186531575, 0.43377878980082973, 0.43054485094542594]\n"
     ]
    },
    {
     "name": "stderr",
     "output_type": "stream",
     "text": [
      "c:\\Python39\\lib\\site-packages\\sklearn\\metrics\\_classification.py:1334: UndefinedMetricWarning: Precision and F-score are ill-defined and being set to 0.0 in labels with no predicted samples. Use `zero_division` parameter to control this behavior.\n",
      "  _warn_prf(average, modifier, msg_start, len(result))\n"
     ]
    }
   ],
   "source": [
    "# Sets seed\n",
    "np.random.seed(28)\n",
    "kf = KFold(n_splits = NUMBER_K_FOLDS)\n",
    "\n",
    "test_accuracy_list = []\n",
    "prec_list = []\n",
    "recall_list = []\n",
    "f1_list = []\n",
    "training_time_list = []\n",
    "prediction_time_list = []\n",
    "full_history =[]\n",
    "\n",
    "run = 0\n",
    "\n",
    "\n",
    "for train_inds, _ in kf.split(text_train):\n",
    "    run += 1\n",
    "    print('Run:', run)\n",
    "\n",
    "    train_x_text = np.array([text_train[i] for i in train_inds])\n",
    "    train_x_pos = np.array([pos_train_features[i] for i in train_inds])\n",
    "    train_y = np.array([author_train_hot[i] for i in train_inds])\n",
    "       \n",
    "    t0 = time.time()\n",
    "    # Fit model\n",
    "    han_model = define_model(SEQUENCE_LENGTH, Syntaxical_length, OUTPUT_CLASSES,embedding_dims= EMBEDDING_DIMENSIONS,vocab_sizes= MAX_FEATURES+1,\n",
    "     conv_filters=COV_FILTERS, kernel_sizes=KERNEL_SIZES, verbose = False, learning=LEARNING_RATE)\n",
    "\n",
    "    \n",
    "    histroy = han_model.fit([train_x_text,train_x_pos], train_y, epochs=EPOCH_LENGTH, batch_size=BATCH_SIZE, verbose = VERBOSE,validation_split = VALIDATION_PERCENTAGE)\n",
    "  \n",
    "    t1 = time.time()\n",
    "    \n",
    "    # Predict values for test set\n",
    "    author_pred1 = han_model.predict([text_test,pos_test_features])\n",
    "    author_pred1 = author_lb.inverse_transform(author_pred1)\n",
    "\n",
    "    t2 = time.time()\n",
    "\n",
    "    # Evaluate\n",
    "    test_accuracy = accuracy_score(author_test, author_pred1)\n",
    "    precision, recall, f1, support = score(author_test, author_pred1)\n",
    "    ave_precision = np.average(precision, weights = support/np.sum(support))\n",
    "    ave_recall = np.average(recall, weights = support/np.sum(support))\n",
    "    ave_f1 = np.average(f1, weights = support/np.sum(support))\n",
    "    training_time = (t1 - t0)\n",
    "    prediction_time = (t2 - t1)\n",
    "    \n",
    "    test_accuracy_list.append(test_accuracy)\n",
    "    prec_list.append(ave_precision)\n",
    "    recall_list.append(ave_recall)\n",
    "    f1_list.append(ave_f1)\n",
    "    training_time_list.append(training_time)\n",
    "    prediction_time_list.append(prediction_time)\n",
    "    full_history.append(histroy)\n",
    "\n",
    "print(\"Test Accuracy:\", test_accuracy_list)\n",
    "print(\"Ave. Precision:\", prec_list)\n",
    "print(\"Ave. Recall:\", recall_list)\n",
    "print(\"Ave. F1 Score:\", f1_list)"
   ]
  },
  {
   "cell_type": "code",
   "execution_count": 75,
   "metadata": {},
   "outputs": [
    {
     "name": "stdout",
     "output_type": "stream",
     "text": [
      "Average Accuracy across K-folds: 0.4395210308777049\n",
      "Average Precision across K-folds: 0.4569944634455713\n",
      "Average Recall across K-folds: 0.4395210308777049\n",
      "Average F1 Score across K-folds: 0.43447575313313774\n",
      "Average Training Time across K-folds: 1183.1208982467651 seconds\n",
      "Prediction Time across K-folds: 10.797161340713501 seconds\n"
     ]
    }
   ],
   "source": [
    "#Get averages for kfold runs\n",
    "mean_accuracy_across_kfold = np.mean(test_accuracy_list)\n",
    "mean_percision_across_kfold = np.mean(prec_list)\n",
    "mean_recall_across_kfold = np.mean(recall_list)\n",
    "mean_f1_across_kfold = np.mean(f1_list)\n",
    "\n",
    "\n",
    "print(\"Average Accuracy across K-folds:\", mean_accuracy_across_kfold)\n",
    "print(\"Average Precision across K-folds:\", mean_percision_across_kfold)\n",
    "print(\"Average Recall across K-folds:\", mean_recall_across_kfold)\n",
    "print(\"Average F1 Score across K-folds:\", mean_f1_across_kfold)\n",
    "print(\"Average Training Time across K-folds:\", (t1 - t0), \"seconds\")\n",
    "print(\"Prediction Time across K-folds:\", (t2 - t1), \"seconds\")"
   ]
  },
  {
   "cell_type": "code",
   "execution_count": 76,
   "metadata": {},
   "outputs": [],
   "source": [
    "average_test_loss_accross_kfold = []\n",
    "average_validation_loss_accross_kfold = []\n",
    "average_test_accuracy_accross_kfold = []\n",
    "average_validation_accuracy_accross_kfold = []\n",
    "\n",
    "for i in range(len(full_history)):\n",
    "    average_test_loss_accross_kfold.append(full_history[i].history['loss'])\n",
    "    average_validation_loss_accross_kfold.append(full_history[i].history['val_loss'])\n",
    "\n",
    "    average_test_accuracy_accross_kfold.append(full_history[i].history['accuracy'])\n",
    "    average_validation_accuracy_accross_kfold.append(full_history[i].history['val_accuracy'])\n",
    "\n",
    "average_loss_accross_kfold = np.mean(average_test_loss_accross_kfold,axis=0)\n",
    "average_validation_loss_accross_kfold = np.mean(average_validation_loss_accross_kfold,axis=0)\n",
    "\n",
    "average_accuracy_accross_kfold = np.mean(average_test_accuracy_accross_kfold,axis=0)\n",
    "average_validation_accuracy_accross_kfold = np.mean(average_validation_accuracy_accross_kfold,axis=0)\n"
   ]
  },
  {
   "cell_type": "code",
   "execution_count": 77,
   "metadata": {},
   "outputs": [
    {
     "name": "stderr",
     "output_type": "stream",
     "text": [
      "The PostScript backend does not support transparency; partially transparent artists will be rendered opaque.\n"
     ]
    },
    {
     "data": {
      "image/png": "[encoded data removed]",
      "text/plain": [
       "<Figure size 640x480 with 1 Axes>"
      ]
     },
     "metadata": {},
     "output_type": "display_data"
    }
   ],
   "source": [
    "# summarize history for accuracy\n",
    "plt.plot(average_accuracy_accross_kfold)\n",
    "plt.plot(average_validation_accuracy_accross_kfold)\n",
    "plt.title('Style HAN Network Accuracy')\n",
    "plt.ylabel('accuracy')\n",
    "plt.xlabel('epoch')\n",
    "plt.legend(['Train', 'Validation'], loc='upper left')\n",
    "plt.savefig(\"outputs/style_han_network_acc.eps\", format='eps')\n",
    "plt.show()\n",
    "\n",
    "\n"
   ]
  },
  {
   "cell_type": "code",
   "execution_count": 78,
   "metadata": {},
   "outputs": [
    {
     "name": "stderr",
     "output_type": "stream",
     "text": [
      "The PostScript backend does not support transparency; partially transparent artists will be rendered opaque.\n"
     ]
    },
    {
     "data": {
      "image/png": "[encoded data removed]",
      "text/plain": [
       "<Figure size 640x480 with 1 Axes>"
      ]
     },
     "metadata": {},
     "output_type": "display_data"
    }
   ],
   "source": [
    "# summarize history for loss\n",
    "plt.plot(average_loss_accross_kfold)\n",
    "plt.plot(average_validation_loss_accross_kfold)\n",
    "plt.title('Style HAN Network loss')\n",
    "plt.ylabel('loss')\n",
    "plt.xlabel('epoch')\n",
    "plt.legend(['Train', 'Validation'], loc='upper left')\n",
    "plt.savefig(\"outputs/style_han_network_loss.eps\", format='eps')\n",
    "plt.show()\n"
   ]
  }
 ],
 "metadata": {
  "kernelspec": {
   "display_name": "Python 3.9.6 64-bit",
   "language": "python",
   "name": "python3"
  },
  "language_info": {
   "codemirror_mode": {
    "name": "ipython",
    "version": 3
   },
   "file_extension": ".py",
   "mimetype": "text/x-python",
   "name": "python",
   "nbconvert_exporter": "python",
   "pygments_lexer": "ipython3",
   "version": "3.9.6"
  },
  "orig_nbformat": 4,
  "vscode": {
   "interpreter": {
    "hash": "81794d4967e6c3204c66dcd87b604927b115b27c00565d3d43f05ba2f3a2cb0d"
   }
  }
 },
 "nbformat": 4,
 "nbformat_minor": 2
}
