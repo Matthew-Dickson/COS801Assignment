{
 "cells": [
  {
   "cell_type": "code",
   "execution_count": 12,
   "metadata": {},
   "outputs": [],
   "source": [
    "# Import packages\n",
    "import numpy as np\n",
    "import pandas as pd\n",
    "import matplotlib.pyplot as plt\n",
    "from sklearn.preprocessing import LabelBinarizer\n",
    "from keras.models import Model\n",
    "from keras.layers import Input, Dense, Flatten, Dropout\n",
    "from keras.optimizers import Adam\n",
    "from keras.preprocessing.text import one_hot\n",
    "from sklearn.preprocessing import LabelEncoder\n",
    "from sklearn.model_selection import train_test_split"
   ]
  },
  {
   "cell_type": "code",
   "execution_count": 13,
   "metadata": {},
   "outputs": [],
   "source": [
    "#Hyper Parameters\n",
    "OUTPUT_CLASSES = 22\n",
    "FILE_NAME = \"../Data/processed_data.csv\"\n",
    "BATCH_SIZE = 32\n",
    "EPOCH_LENGTH = 100\n",
    "VALIDATION_PERCENTAGE = 0.2\n",
    "TEST_SIZE_PERCENTAGE = 0.2\n",
    "X_VECTOR_NAMES = [\"syllables\",\"periods\",\"hyphens\",\"commas\",\"exclamations\",\"questions\",\"quotes\"\n",
    ",\"dollars\",\"percentages\",\"ands\",\"asterisks\",\"pluses\",\"equals\",\"slashes\",\"hashes\",\"replies\",\"retweets\",\n",
    "\"links\",\"smiles\",\"bigsmiles\",\"winks\",\"bigwinks\",\"unsures\",\"semicolons\",\"hashtags\"]"
   ]
  },
  {
   "cell_type": "code",
   "execution_count": 14,
   "metadata": {},
   "outputs": [],
   "source": [
    "def transformTargetLabel(label,lableType):\n",
    "    if(lableType == \"onehot\"):\n",
    "        y_lb = LabelBinarizer()\n",
    "        y_lb.fit(label)\n",
    "        tranformed_labels = y_lb.transform(label)\n",
    "    elif(lableType == \"labelencode\"):\n",
    "        y_lb = LabelEncoder()\n",
    "        tranformed_labels = y_lb.fit_transform(label)\n",
    "    else:\n",
    "         tranformed_labels = label\n",
    "    return tranformed_labels"
   ]
  },
  {
   "cell_type": "code",
   "execution_count": 15,
   "metadata": {},
   "outputs": [],
   "source": [
    "# Define model architecture in keras\n",
    "def define_model(input_len, output_size, verbose = True,\n",
    "                drop_out_pct = 0.25, activation_fn = 'relu', learning = 0.0001,\n",
    "                 loss_fn ='categorical_crossentropy', output_activation_fn=\"softmax\", metrics_list=['accuracy']):\n",
    "\n",
    "    inputs1 = Input(shape = (input_len,))\n",
    "    hidden1 = Dense(400, activation=activation_fn)(inputs1)\n",
    "    hidden2 = Dense(600, activation=activation_fn)(hidden1)\n",
    "    hidden3 = Dense(1200, activation=activation_fn)(hidden2)\n",
    "    hidden4 = Dense(1200, activation=activation_fn)(hidden3)\n",
    "    hidden5 = Dense(3700, activation=activation_fn)(hidden4)\n",
    "    hidden6 = Dense(1200, activation=activation_fn)(hidden5)\n",
    "    hidden7 = Dense(1200, activation=activation_fn)(hidden6)\n",
    "    hidden8 = Dense(500, activation=activation_fn)(hidden7)\n",
    "    flat1 = Flatten()(hidden7)\n",
    "    \n",
    "\n",
    "    # Create output layer\n",
    "    output = Dense(output_size, activation = output_activation_fn)(flat1)\n",
    "    \n",
    "    # Create model\n",
    "    model = Model(inputs = [inputs1], outputs = output)\n",
    "    \n",
    "    # Compile model\n",
    "    model.compile(loss=loss_fn, optimizer = Adam(lr = learning), metrics=metrics_list)\n",
    "    \n",
    "    if verbose:\n",
    "        print(model.summary())\n",
    "        \n",
    "    return model"
   ]
  },
  {
   "cell_type": "code",
   "execution_count": 16,
   "metadata": {},
   "outputs": [
    {
     "data": {
      "text/html": [
       "<div>\n",
       "<style scoped>\n",
       "    .dataframe tbody tr th:only-of-type {\n",
       "        vertical-align: middle;\n",
       "    }\n",
       "\n",
       "    .dataframe tbody tr th {\n",
       "        vertical-align: top;\n",
       "    }\n",
       "\n",
       "    .dataframe thead th {\n",
       "        text-align: right;\n",
       "    }\n",
       "</style>\n",
       "<table border=\"1\" class=\"dataframe\">\n",
       "  <thead>\n",
       "    <tr style=\"text-align: right;\">\n",
       "      <th></th>\n",
       "      <th>Unnamed: 0</th>\n",
       "      <th>raw_text</th>\n",
       "      <th>username</th>\n",
       "      <th>syllables</th>\n",
       "      <th>periods</th>\n",
       "      <th>hyphens</th>\n",
       "      <th>commas</th>\n",
       "      <th>exclamations</th>\n",
       "      <th>questions</th>\n",
       "      <th>quotes</th>\n",
       "      <th>...</th>\n",
       "      <th>replies</th>\n",
       "      <th>retweets</th>\n",
       "      <th>links</th>\n",
       "      <th>smiles</th>\n",
       "      <th>bigsmiles</th>\n",
       "      <th>winks</th>\n",
       "      <th>bigwinks</th>\n",
       "      <th>unsures</th>\n",
       "      <th>semicolons</th>\n",
       "      <th>hashtags</th>\n",
       "    </tr>\n",
       "  </thead>\n",
       "  <tbody>\n",
       "    <tr>\n",
       "      <th>0</th>\n",
       "      <td>4</td>\n",
       "      <td>\"Appreciate a pair of nice titties</td>\n",
       "      <td>0laotan</td>\n",
       "      <td>11</td>\n",
       "      <td>0</td>\n",
       "      <td>0</td>\n",
       "      <td>0</td>\n",
       "      <td>0</td>\n",
       "      <td>0</td>\n",
       "      <td>1</td>\n",
       "      <td>...</td>\n",
       "      <td>0</td>\n",
       "      <td>0</td>\n",
       "      <td>0</td>\n",
       "      <td>0</td>\n",
       "      <td>0</td>\n",
       "      <td>0</td>\n",
       "      <td>0</td>\n",
       "      <td>0</td>\n",
       "      <td>0</td>\n",
       "      <td>0</td>\n",
       "    </tr>\n",
       "    <tr>\n",
       "      <th>1</th>\n",
       "      <td>6</td>\n",
       "      <td>\"son</td>\n",
       "      <td>0laotan</td>\n",
       "      <td>1</td>\n",
       "      <td>0</td>\n",
       "      <td>0</td>\n",
       "      <td>0</td>\n",
       "      <td>0</td>\n",
       "      <td>0</td>\n",
       "      <td>1</td>\n",
       "      <td>...</td>\n",
       "      <td>0</td>\n",
       "      <td>0</td>\n",
       "      <td>0</td>\n",
       "      <td>0</td>\n",
       "      <td>0</td>\n",
       "      <td>0</td>\n",
       "      <td>0</td>\n",
       "      <td>0</td>\n",
       "      <td>0</td>\n",
       "      <td>0</td>\n",
       "    </tr>\n",
       "    <tr>\n",
       "      <th>2</th>\n",
       "      <td>10</td>\n",
       "      <td>me nutting in her means no one else can get h...</td>\n",
       "      <td>0laotan</td>\n",
       "      <td>21</td>\n",
       "      <td>2</td>\n",
       "      <td>0</td>\n",
       "      <td>0</td>\n",
       "      <td>0</td>\n",
       "      <td>1</td>\n",
       "      <td>0</td>\n",
       "      <td>...</td>\n",
       "      <td>0</td>\n",
       "      <td>0</td>\n",
       "      <td>1</td>\n",
       "      <td>0</td>\n",
       "      <td>0</td>\n",
       "      <td>0</td>\n",
       "      <td>0</td>\n",
       "      <td>0</td>\n",
       "      <td>0</td>\n",
       "      <td>0</td>\n",
       "    </tr>\n",
       "    <tr>\n",
       "      <th>3</th>\n",
       "      <td>12</td>\n",
       "      <td>Her being a good person means she's entitled ...</td>\n",
       "      <td>0laotan</td>\n",
       "      <td>24</td>\n",
       "      <td>1</td>\n",
       "      <td>0</td>\n",
       "      <td>0</td>\n",
       "      <td>0</td>\n",
       "      <td>1</td>\n",
       "      <td>0</td>\n",
       "      <td>...</td>\n",
       "      <td>0</td>\n",
       "      <td>0</td>\n",
       "      <td>1</td>\n",
       "      <td>0</td>\n",
       "      <td>0</td>\n",
       "      <td>0</td>\n",
       "      <td>0</td>\n",
       "      <td>0</td>\n",
       "      <td>0</td>\n",
       "      <td>0</td>\n",
       "    </tr>\n",
       "    <tr>\n",
       "      <th>4</th>\n",
       "      <td>13</td>\n",
       "      <td>this. https://t.co/WiUKzhqXp1</td>\n",
       "      <td>0laotan</td>\n",
       "      <td>3</td>\n",
       "      <td>2</td>\n",
       "      <td>0</td>\n",
       "      <td>0</td>\n",
       "      <td>0</td>\n",
       "      <td>0</td>\n",
       "      <td>0</td>\n",
       "      <td>...</td>\n",
       "      <td>0</td>\n",
       "      <td>0</td>\n",
       "      <td>1</td>\n",
       "      <td>0</td>\n",
       "      <td>0</td>\n",
       "      <td>0</td>\n",
       "      <td>0</td>\n",
       "      <td>0</td>\n",
       "      <td>0</td>\n",
       "      <td>0</td>\n",
       "    </tr>\n",
       "  </tbody>\n",
       "</table>\n",
       "<p>5 rows × 28 columns</p>\n",
       "</div>"
      ],
      "text/plain": [
       "   Unnamed: 0                                           raw_text  username  \\\n",
       "0           4                 \"Appreciate a pair of nice titties   0laotan   \n",
       "1           6                                               \"son   0laotan   \n",
       "2          10   me nutting in her means no one else can get h...   0laotan   \n",
       "3          12   Her being a good person means she's entitled ...   0laotan   \n",
       "4          13                      this. https://t.co/WiUKzhqXp1   0laotan   \n",
       "\n",
       "   syllables  periods  hyphens  commas  exclamations  questions  quotes  ...  \\\n",
       "0         11        0        0       0             0          0       1  ...   \n",
       "1          1        0        0       0             0          0       1  ...   \n",
       "2         21        2        0       0             0          1       0  ...   \n",
       "3         24        1        0       0             0          1       0  ...   \n",
       "4          3        2        0       0             0          0       0  ...   \n",
       "\n",
       "   replies  retweets  links  smiles  bigsmiles  winks  bigwinks  unsures  \\\n",
       "0        0         0      0       0          0      0         0        0   \n",
       "1        0         0      0       0          0      0         0        0   \n",
       "2        0         0      1       0          0      0         0        0   \n",
       "3        0         0      1       0          0      0         0        0   \n",
       "4        0         0      1       0          0      0         0        0   \n",
       "\n",
       "   semicolons  hashtags  \n",
       "0           0         0  \n",
       "1           0         0  \n",
       "2           0         0  \n",
       "3           0         0  \n",
       "4           0         0  \n",
       "\n",
       "[5 rows x 28 columns]"
      ]
     },
     "execution_count": 16,
     "metadata": {},
     "output_type": "execute_result"
    }
   ],
   "source": [
    "data = pd.read_csv(FILE_NAME)\n",
    "data.head()"
   ]
  },
  {
   "cell_type": "code",
   "execution_count": 17,
   "metadata": {},
   "outputs": [],
   "source": [
    "#Get X vector and y label\n",
    "X = data[X_VECTOR_NAMES]\n",
    "y = data['username']"
   ]
  },
  {
   "cell_type": "code",
   "execution_count": 18,
   "metadata": {},
   "outputs": [],
   "source": [
    "#Transform y label into numeric representation\n",
    "y = transformTargetLabel(y,\"onehot\")"
   ]
  },
  {
   "cell_type": "code",
   "execution_count": 19,
   "metadata": {},
   "outputs": [],
   "source": [
    "X_train, X_test, y_train, y_test = train_test_split(X, y, test_size = TEST_SIZE_PERCENTAGE, random_state = 5)"
   ]
  },
  {
   "cell_type": "code",
   "execution_count": 20,
   "metadata": {},
   "outputs": [
    {
     "name": "stdout",
     "output_type": "stream",
     "text": [
      "(22298, 25)\n",
      "(5575, 25)\n",
      "(22298, 22)\n",
      "(5575, 22)\n"
     ]
    }
   ],
   "source": [
    "# Check shapes of created datasets\n",
    "print(np.shape(X_train))\n",
    "print(np.shape(X_test))\n",
    "print(np.shape(y_train))\n",
    "print(np.shape(y_test))"
   ]
  },
  {
   "cell_type": "code",
   "execution_count": 21,
   "metadata": {},
   "outputs": [
    {
     "name": "stdout",
     "output_type": "stream",
     "text": [
      "Model: \"model\"\n",
      "_________________________________________________________________\n",
      " Layer (type)                Output Shape              Param #   \n",
      "=================================================================\n",
      " input_1 (InputLayer)        [(None, 25)]              0         \n",
      "                                                                 \n",
      " dense (Dense)               (None, 400)               10400     \n",
      "                                                                 \n",
      " dense_1 (Dense)             (None, 600)               240600    \n",
      "                                                                 \n",
      " dense_2 (Dense)             (None, 1200)              721200    \n",
      "                                                                 \n",
      " dense_3 (Dense)             (None, 1200)              1441200   \n",
      "                                                                 \n",
      " dense_4 (Dense)             (None, 3700)              4443700   \n",
      "                                                                 \n",
      " dense_5 (Dense)             (None, 1200)              4441200   \n",
      "                                                                 \n",
      " dense_6 (Dense)             (None, 1200)              1441200   \n",
      "                                                                 \n",
      " flatten (Flatten)           (None, 1200)              0         \n",
      "                                                                 \n",
      " dense_8 (Dense)             (None, 22)                26422     \n",
      "                                                                 \n",
      "=================================================================\n",
      "Total params: 12,765,922\n",
      "Trainable params: 12,765,922\n",
      "Non-trainable params: 0\n",
      "_________________________________________________________________\n",
      "None\n"
     ]
    },
    {
     "name": "stderr",
     "output_type": "stream",
     "text": [
      "C:\\Users\\leobl\\AppData\\Roaming\\Python\\Python39\\site-packages\\keras\\optimizers\\optimizer_v2\\adam.py:110: UserWarning: The `lr` argument is deprecated, use `learning_rate` instead.\n",
      "  super(Adam, self).__init__(name, **kwargs)\n"
     ]
    }
   ],
   "source": [
    "ann_model = define_model(X.shape[1], OUTPUT_CLASSES)"
   ]
  },
  {
   "cell_type": "code",
   "execution_count": 22,
   "metadata": {},
   "outputs": [
    {
     "name": "stdout",
     "output_type": "stream",
     "text": [
      "Epoch 1/100\n",
      "558/558 [==============================] - 29s 51ms/step - loss: 2.4661 - accuracy: 0.1588 - val_loss: 7.7716 - val_accuracy: 0.0000e+00\n",
      "Epoch 2/100\n",
      "558/558 [==============================] - 29s 52ms/step - loss: 2.4162 - accuracy: 0.1607 - val_loss: 8.1633 - val_accuracy: 0.0000e+00\n",
      "Epoch 3/100\n",
      "558/558 [==============================] - 30s 54ms/step - loss: 2.4109 - accuracy: 0.1649 - val_loss: 8.1559 - val_accuracy: 0.0000e+00\n",
      "Epoch 4/100\n",
      "558/558 [==============================] - 29s 53ms/step - loss: 2.4088 - accuracy: 0.1621 - val_loss: 9.4475 - val_accuracy: 0.0000e+00\n",
      "Epoch 5/100\n",
      "558/558 [==============================] - 28s 51ms/step - loss: 2.4065 - accuracy: 0.1627 - val_loss: 9.4361 - val_accuracy: 0.0000e+00\n",
      "Epoch 6/100\n",
      "558/558 [==============================] - 28s 50ms/step - loss: 2.4063 - accuracy: 0.1648 - val_loss: 8.7003 - val_accuracy: 0.0000e+00\n",
      "Epoch 7/100\n",
      "558/558 [==============================] - 28s 50ms/step - loss: 2.4052 - accuracy: 0.1659 - val_loss: 9.6812 - val_accuracy: 0.0000e+00\n",
      "Epoch 8/100\n",
      "558/558 [==============================] - 29s 51ms/step - loss: 2.4051 - accuracy: 0.1663 - val_loss: 8.8678 - val_accuracy: 0.0000e+00\n",
      "Epoch 9/100\n",
      "558/558 [==============================] - 29s 51ms/step - loss: 2.4032 - accuracy: 0.1662 - val_loss: 10.1998 - val_accuracy: 0.0000e+00\n",
      "Epoch 10/100\n",
      "558/558 [==============================] - 28s 51ms/step - loss: 2.4022 - accuracy: 0.1724 - val_loss: 9.6890 - val_accuracy: 0.0000e+00\n",
      "Epoch 11/100\n",
      "558/558 [==============================] - 29s 51ms/step - loss: 2.4006 - accuracy: 0.1722 - val_loss: 10.2230 - val_accuracy: 0.0000e+00\n",
      "Epoch 12/100\n",
      "558/558 [==============================] - 28s 51ms/step - loss: 2.4010 - accuracy: 0.1695 - val_loss: 11.0339 - val_accuracy: 0.0000e+00\n",
      "Epoch 13/100\n",
      "558/558 [==============================] - 29s 51ms/step - loss: 2.3989 - accuracy: 0.1719 - val_loss: 10.2869 - val_accuracy: 0.0000e+00\n",
      "Epoch 14/100\n",
      "558/558 [==============================] - 28s 51ms/step - loss: 2.3976 - accuracy: 0.1699 - val_loss: 10.9446 - val_accuracy: 0.0000e+00\n",
      "Epoch 15/100\n",
      "558/558 [==============================] - 28s 50ms/step - loss: 2.3958 - accuracy: 0.1723 - val_loss: 11.5366 - val_accuracy: 0.0000e+00\n",
      "Epoch 16/100\n",
      "558/558 [==============================] - 29s 52ms/step - loss: 2.3937 - accuracy: 0.1733 - val_loss: 10.8148 - val_accuracy: 0.0000e+00\n",
      "Epoch 17/100\n",
      "558/558 [==============================] - 28s 51ms/step - loss: 2.3926 - accuracy: 0.1739 - val_loss: 11.5668 - val_accuracy: 0.0000e+00\n",
      "Epoch 18/100\n",
      "558/558 [==============================] - 29s 52ms/step - loss: 2.3907 - accuracy: 0.1704 - val_loss: 11.1002 - val_accuracy: 0.0000e+00\n",
      "Epoch 19/100\n",
      "558/558 [==============================] - 29s 51ms/step - loss: 2.3884 - accuracy: 0.1736 - val_loss: 12.3994 - val_accuracy: 0.0000e+00\n",
      "Epoch 20/100\n",
      "558/558 [==============================] - ETA: 0s - loss: 2.3863 - accuracy: 0.1749"
     ]
    }
   ],
   "source": [
    "ann_model.fit(X_train, y, epochs=EPOCH_LENGTH, batch_size=BATCH_SIZE, \n",
    "                verbose = 1, validation_split = VALIDATION_PERCENTAGE)"
   ]
  },
  {
   "cell_type": "code",
   "execution_count": null,
   "metadata": {},
   "outputs": [],
   "source": [
    "acc = ann_model.history.history['accuracy']\n",
    "val_acc = ann_model.history.history['val_accuracy']\n",
    "loss = ann_model.history.history['loss']\n",
    "val_loss = ann_model.history.history['val_loss']\n",
    "epochs_range = range(EPOCH_LENGTH)"
   ]
  },
  {
   "cell_type": "code",
   "execution_count": null,
   "metadata": {},
   "outputs": [
    {
     "data": {
      "image/png": "[encoded data removed]",
      "text/plain": [
       "<Figure size 640x480 with 1 Axes>"
      ]
     },
     "metadata": {},
     "output_type": "display_data"
    }
   ],
   "source": [
    "plt.subplot(1, 2, 2)\n",
    "plt.plot(epochs_range, loss, label='Training Loss')\n",
    "plt.plot(epochs_range, val_loss, label='Validation Loss')\n",
    "plt.legend(loc='upper right')\n",
    "plt.title('Training and Validation Loss')\n",
    "plt.show()"
   ]
  },
  {
   "cell_type": "code",
   "execution_count": null,
   "metadata": {},
   "outputs": [
    {
     "data": {
      "image/png": "[encoded data removed]",
      "text/plain": [
       "<Figure size 640x480 with 1 Axes>"
      ]
     },
     "metadata": {},
     "output_type": "display_data"
    }
   ],
   "source": [
    "plt.subplot(1, 2, 2)\n",
    "plt.plot(epochs_range, acc, label='Training accuracy')\n",
    "plt.plot(epochs_range, val_acc, label='Validation accuracy')\n",
    "plt.legend(loc='upper right')\n",
    "plt.title('Training and Validation accuracy')\n",
    "plt.show()"
   ]
  }
 ],
 "metadata": {
  "kernelspec": {
   "display_name": "Python 3.9.6 64-bit",
   "language": "python",
   "name": "python3"
  },
  "language_info": {
   "codemirror_mode": {
    "name": "ipython",
    "version": 3
   },
   "file_extension": ".py",
   "mimetype": "text/x-python",
   "name": "python",
   "nbconvert_exporter": "python",
   "pygments_lexer": "ipython3",
   "version": "3.9.6"
  },
  "orig_nbformat": 4,
  "vscode": {
   "interpreter": {
    "hash": "81794d4967e6c3204c66dcd87b604927b115b27c00565d3d43f05ba2f3a2cb0d"
   }
  }
 },
 "nbformat": 4,
 "nbformat_minor": 2
}
