{
 "cells": [
  {
   "cell_type": "code",
   "execution_count": 42,
   "metadata": {},
   "outputs": [],
   "source": [
    "# Import packages\n",
    "import numpy as np\n",
    "import pandas as pd\n",
    "import matplotlib.pyplot as plt\n",
    "import time\n",
    "import nltk\n",
    "\n",
    "from sklearn.model_selection import train_test_split, KFold\n",
    "from sklearn.metrics import accuracy_score\n",
    "from sklearn.metrics import precision_recall_fscore_support as score\n",
    "from sklearn.preprocessing import LabelBinarizer\n",
    "\n",
    "from keras.models import Model\n",
    "from keras.layers import Input, Dense, Flatten, Dropout, Embedding,Attention\n",
    "from keras.layers.convolutional import Conv1D, MaxPooling1D,Conv2D\n",
    "from tensorflow.keras.layers import concatenate\n",
    "from keras.optimizers import Adam, Nadam\n",
    "from sklearn.preprocessing import LabelEncoder\n",
    "import tensorflow as tf\n",
    "from scipy import sparse, stats\n",
    "import utils.text_processing as util\n",
    "from sklearn.feature_extraction.text import TfidfVectorizer\n",
    "## for word embedding\n",
    "import gensim\n",
    "import seaborn as sns\n",
    "\n",
    "from sklearn import feature_extraction, model_selection, naive_bayes, pipeline, manifold, preprocessing\n",
    "\n",
    "\n",
    "import pandas as pd\n",
    "import numpy as np\n",
    "from keras.preprocessing.text import Tokenizer,  text_to_word_sequence\n",
    "from tensorflow.keras.layers import Layer, InputSpec\n",
    "from keras import initializers as initializers, regularizers, constraints\n",
    "from keras.callbacks import Callback, ModelCheckpoint\n",
    "from keras.utils.np_utils import to_categorical\n",
    "from keras.layers import Embedding, Input, Dense, LSTM, GRU, Bidirectional, TimeDistributed, Dropout,Attention\n",
    "from keras import backend as K\n",
    "from keras import optimizers\n",
    "from keras.models import Model\n",
    "import nltk\n",
    "import re\n",
    "import matplotlib.pyplot as plt\n",
    "import sys\n",
    "from sklearn.metrics import roc_auc_score\n",
    "from nltk import tokenize\n",
    "import seaborn as sns\n",
    "import utils.math as math_util\n",
    "import custom.attention_with_context as custom\n",
    "from keras_self_attention import SeqSelfAttention\n",
    "import re"
   ]
  },
  {
   "cell_type": "code",
   "execution_count": 43,
   "metadata": {},
   "outputs": [],
   "source": [
    "def clean_str(string):\n",
    "    \"\"\"\n",
    "    Tokenization/string cleaning for dataset\n",
    "    Every dataset is lower cased except\n",
    "    \"\"\"\n",
    "    string = re.sub(r\"\\\\\", \"\", string)    \n",
    "    string = re.sub(r\"\\'\", \"\", string)    \n",
    "    string = re.sub(r\"\\\"\", \"\", string)    \n",
    "    return string.strip().lower()"
   ]
  },
  {
   "cell_type": "code",
   "execution_count": 44,
   "metadata": {},
   "outputs": [],
   "source": [
    "#Parameters\n",
    "FILE_NAME = \"../Data/processed_tagged_data.csv\"\n",
    "Y_LABEL_NAME=\"username\"\n",
    "X_LABEL_NAME=\"raw_text\"\n",
    "OUTPUT_CLASSES = 22\n",
    "\n",
    "SEQUENCE_LENGTH = 35\n",
    "MAX_SENTENCE_NUMBER = 1\n",
    "EMBEDDING_DIMENSIONS =100\n",
    "BATCH_SIZE = 32\n",
    "EPOCH_LENGTH = 10\n",
    "NUMBER_K_FOLDS = 3\n",
    "LEARNING_RATE = 0.0005\n",
    "VALIDATION_PERCENTAGE = 0.1\n",
    "TEST_SIZE_PERCENTAGE = 0.2\n",
    "L2_REG = regularizers.l2(1e-13)\n",
    "\n",
    "COV_FILTERS = 50\n",
    "KERNEL_SIZES = 3\n",
    "\n",
    "VERBOSE = 1\n",
    "\n",
    "MAX_FEATURES = 50000\n",
    "max_senten_num=1\n",
    "embed_size=100\n"
   ]
  },
  {
   "cell_type": "code",
   "execution_count": 45,
   "metadata": {},
   "outputs": [],
   "source": [
    "#Read data\n",
    "data = pd.read_csv(FILE_NAME)"
   ]
  },
  {
   "cell_type": "code",
   "execution_count": 46,
   "metadata": {},
   "outputs": [],
   "source": [
    "#Get text and y label\n",
    "x = data[[X_LABEL_NAME,\"CC\",\"CD\",\"DT\",\"EX\",\"FW\",\"IN\",\n",
    "\"JJ\",\"JJR\",\"JJS\",\"LS\",\"MD\",\"NN\",\"NNS\",\"NNP\",\"NNPS\",\"PDT\",\"POS\",\"PRP\",\"PRP$\",\n",
    "\"RB\",\"RBR\",\"RP\",\"SYM\",\"TO\",\"UH\",\"VB\",\"VBD\",\"VBG\",\"VBN\",\"VBP\",\"VBZ\",\"WDT\",\"WP\",\n",
    "\"WP$\",\"WRB\"]]\n",
    "author = data[Y_LABEL_NAME]"
   ]
  },
  {
   "cell_type": "code",
   "execution_count": 47,
   "metadata": {},
   "outputs": [],
   "source": [
    "#Tokenize data\n",
    "tokenizer = Tokenizer(num_words=MAX_FEATURES, oov_token=True)\n",
    "tokenizer.fit_on_texts(x[X_LABEL_NAME])"
   ]
  },
  {
   "cell_type": "code",
   "execution_count": 48,
   "metadata": {},
   "outputs": [],
   "source": [
    "paras = []\n",
    "labels = []\n",
    "texts = []"
   ]
  },
  {
   "cell_type": "code",
   "execution_count": 49,
   "metadata": {},
   "outputs": [],
   "source": [
    "sent_lens = []\n",
    "sent_nums = []\n",
    "for idx in range(data[X_LABEL_NAME].shape[0]):\n",
    "    text = clean_str(data[X_LABEL_NAME][idx])\n",
    "    texts.append(text)\n",
    "    sentences = tokenize.sent_tokenize(text)\n",
    "    sent_nums.append(len(sentences))\n",
    "    for sent in sentences:\n",
    "        sent_lens.append(len(text_to_word_sequence(sent)))\n",
    "    paras.append(sentences)"
   ]
  },
  {
   "cell_type": "code",
   "execution_count": 50,
   "metadata": {},
   "outputs": [],
   "source": [
    "\n",
    "embedding = np.zeros((len(x[X_LABEL_NAME]), max_senten_num, SEQUENCE_LENGTH), dtype='int32')\n",
    "for i, sentences in enumerate(paras):\n",
    "    for j, sent in enumerate(sentences):\n",
    "        if j< max_senten_num:\n",
    "            wordTokens = text_to_word_sequence(sent)\n",
    "            k=0\n",
    "            for _, word in enumerate(wordTokens):\n",
    "                try:\n",
    "                    if k<SEQUENCE_LENGTH and tokenizer.word_index[word]<MAX_FEATURES:\n",
    "                        embedding[i,j,k] = tokenizer.word_index[word]\n",
    "                        k=k+1\n",
    "                except:\n",
    "                    #print(word)\n",
    "                    pass"
   ]
  },
  {
   "cell_type": "code",
   "execution_count": 51,
   "metadata": {},
   "outputs": [
    {
     "name": "stdout",
     "output_type": "stream",
     "text": [
      "Total 24835 unique tokens.\n"
     ]
    }
   ],
   "source": [
    "word_index = tokenizer.word_index\n",
    "print('Total %s unique tokens.' % len(word_index))"
   ]
  },
  {
   "cell_type": "code",
   "execution_count": 52,
   "metadata": {},
   "outputs": [
    {
     "name": "stdout",
     "output_type": "stream",
     "text": [
      "Total 400000 word vectors.\n"
     ]
    }
   ],
   "source": [
    "GLOVE_DIR = \"./embeddings/glove.6B.100d.txt\"\n",
    "embeddings_index = {}\n",
    "f = open(GLOVE_DIR,encoding=\"utf8\")\n",
    "for line in f:\n",
    "    try:\n",
    "        values = line.split()\n",
    "        word = values[0]\n",
    "        coefs = np.asarray(values[1:], dtype='float32')\n",
    "        embeddings_index[word] = coefs\n",
    "    except:\n",
    "        print(word)\n",
    "        pass\n",
    "f.close()\n",
    "print('Total %s word vectors.' % len(embeddings_index))"
   ]
  },
  {
   "cell_type": "code",
   "execution_count": 53,
   "metadata": {},
   "outputs": [
    {
     "name": "stdout",
     "output_type": "stream",
     "text": [
      "Total absent words are 9024 which is 36.34 % of total words\n"
     ]
    }
   ],
   "source": [
    "embedding_matrix = np.zeros((len(word_index) + 1, embed_size))\n",
    "absent_words = 0\n",
    "for word, i in word_index.items():\n",
    "    embedding_vector = embeddings_index.get(word)\n",
    "    if embedding_vector is not None:\n",
    "        # words not found in embedding index will be all-zeros.\n",
    "        embedding_matrix[i] = embedding_vector\n",
    "    else:\n",
    "        absent_words += 1\n",
    "print('Total absent words are', absent_words, 'which is', \"%0.2f\" % (absent_words * 100 / len(word_index)), '% of total words')"
   ]
  },
  {
   "cell_type": "code",
   "execution_count": 54,
   "metadata": {},
   "outputs": [],
   "source": [
    "#Build glove embedding layer\n",
    "embedding_layer = Embedding(len(word_index) + 1,embed_size, weights=[embedding_matrix], input_length=SEQUENCE_LENGTH, trainable=False)"
   ]
  },
  {
   "cell_type": "code",
   "execution_count": 55,
   "metadata": {},
   "outputs": [],
   "source": [
    "def define_model(input_len1,input_len2, output_size, vocab_sizes, embedding_dims = 100, verbose = True,\n",
    "                drop_out_pct = 0.25, conv_filters = 50, kernel_sizes = 3, lstm_layers_size = 100, cnn_activation_fn = 'relu',lstm_activation_fn = 'tanh', output_activation = \"softmax\",\n",
    "                 pool_sizes = 1, learning = 0.0005,l2_reg=regularizers.l2(1e-13)):\n",
    "\n",
    "    #HAN one\n",
    "    input1 = Input(shape=(input_len1), dtype='float32')\n",
    "    embedding1 = embedding_layer(input1)\n",
    "    #CNN\n",
    "    conv1_1 = Conv1D(filters = conv_filters, kernel_size = kernel_sizes, activation = cnn_activation_fn, padding='same')(embedding1)\n",
    "    pool1 = MaxPooling1D(pool_size = pool_sizes)(conv1_1)\n",
    "    #LSTM\n",
    "    lstm1_1 = Bidirectional(LSTM(lstm_layers_size, return_sequences=True, kernel_regularizer=l2_reg,activation = lstm_activation_fn))(pool1)\n",
    "    \n",
    "    \n",
    "\n",
    "    #HAN two\n",
    "    input2 = Input(shape=(input_len2), dtype='float32')\n",
    "    embedding2 = Embedding(vocab_sizes ,embedding_dims)(input2)\n",
    "    #CNN\n",
    "    conv2_1 = Conv1D(filters = conv_filters, kernel_size = kernel_sizes, activation = cnn_activation_fn, padding='same')(embedding2)\n",
    "    pool2 = MaxPooling1D(pool_size = pool_sizes)(conv2_1)\n",
    "    #LSTM\n",
    "    lstm2_1 = Bidirectional(LSTM(lstm_layers_size, return_sequences=True, kernel_regularizer=l2_reg,activation = lstm_activation_fn))(pool2)\n",
    "\n",
    "\n",
    "    #Merge channels\n",
    "    merged = concatenate([lstm1_1, lstm2_1])\n",
    "    attention = SeqSelfAttention()(merged)\n",
    "    attention = Flatten()(attention)\n",
    "\n",
    "    output = Dense(output_size, activation = output_activation)(attention)\n",
    "    #output = Flatten()(output)\n",
    "    model = Model([input1,input2], output)\n",
    "\n",
    "    #Compile model\n",
    "    model.compile(loss='categorical_crossentropy', optimizer = Nadam(learning_rate = learning), metrics=['accuracy'])\n",
    "    \n",
    "    if verbose:\n",
    "        print(model.summary())\n",
    "        \n",
    "    return model"
   ]
  },
  {
   "cell_type": "code",
   "execution_count": 56,
   "metadata": {},
   "outputs": [],
   "source": [
    "#Split data\n",
    "x_train, x_test, author_train, author_test = train_test_split(x, author, test_size = TEST_SIZE_PERCENTAGE, random_state = 5)"
   ]
  },
  {
   "cell_type": "code",
   "execution_count": 57,
   "metadata": {},
   "outputs": [
    {
     "name": "stdout",
     "output_type": "stream",
     "text": [
      "(21933, 36)\n",
      "(5484, 36)\n",
      "(21933,)\n",
      "(5484,)\n"
     ]
    }
   ],
   "source": [
    "# Check shapes of created datasets\n",
    "print(np.shape(x_train))\n",
    "print(np.shape(x_test))\n",
    "print(np.shape(author_train))\n",
    "print(np.shape(author_test))"
   ]
  },
  {
   "cell_type": "code",
   "execution_count": 58,
   "metadata": {},
   "outputs": [],
   "source": [
    "text_train = x_train[X_LABEL_NAME].to_numpy()\n",
    "text_test = x_test[X_LABEL_NAME].to_numpy()\n",
    "pos_train_features = x_train[x_train.columns[1:]]\n",
    "pos_test_features = x_test[x_test.columns[1:]]"
   ]
  },
  {
   "cell_type": "code",
   "execution_count": 59,
   "metadata": {},
   "outputs": [],
   "source": [
    "Syntaxical_length = pos_train_features.shape[1]"
   ]
  },
  {
   "cell_type": "code",
   "execution_count": 60,
   "metadata": {},
   "outputs": [
    {
     "data": {
      "text/plain": [
       "35"
      ]
     },
     "execution_count": 60,
     "metadata": {},
     "output_type": "execute_result"
    }
   ],
   "source": [
    "Syntaxical_length"
   ]
  },
  {
   "cell_type": "code",
   "execution_count": 61,
   "metadata": {},
   "outputs": [],
   "source": [
    "paras = []\n",
    "labels = []\n",
    "texts = []"
   ]
  },
  {
   "cell_type": "code",
   "execution_count": 62,
   "metadata": {},
   "outputs": [],
   "source": [
    "#Generating lexical train input\n",
    "sent_lens = []\n",
    "sent_nums = []\n",
    "for idx in range(len(text_train)):\n",
    "    text = clean_str(text_train[idx])\n",
    "    texts.append(text)\n",
    "    sentences = tokenize.sent_tokenize(text)\n",
    "    sent_nums.append(len(sentences))\n",
    "    for sent in sentences:\n",
    "        sent_lens.append(len(text_to_word_sequence(sent)))\n",
    "    paras.append(sentences)"
   ]
  },
  {
   "cell_type": "code",
   "execution_count": 63,
   "metadata": {},
   "outputs": [],
   "source": [
    "text_train = np.zeros((len(text_train), max_senten_num, SEQUENCE_LENGTH), dtype='int32')\n",
    "for i, sentences in enumerate(paras):\n",
    "    for j, sent in enumerate(sentences):\n",
    "        if j< max_senten_num:\n",
    "            wordTokens = text_to_word_sequence(sent)\n",
    "            k=0\n",
    "            for _, word in enumerate(wordTokens):\n",
    "                try:\n",
    "                    if k<SEQUENCE_LENGTH and tokenizer.word_index[word]<MAX_FEATURES:\n",
    "                        text_train[i,j,k] = tokenizer.word_index[word]\n",
    "                        k=k+1\n",
    "                except:\n",
    "                    #print(word)\n",
    "                    pass"
   ]
  },
  {
   "cell_type": "code",
   "execution_count": 64,
   "metadata": {},
   "outputs": [],
   "source": [
    "paras = []\n",
    "labels = []\n",
    "texts = []"
   ]
  },
  {
   "cell_type": "code",
   "execution_count": 65,
   "metadata": {},
   "outputs": [],
   "source": [
    "sent_lens = []\n",
    "sent_nums = []\n",
    "for idx in range(len(text_test)):\n",
    "    text = clean_str(text_test[idx])\n",
    "    texts.append(text)\n",
    "    sentences = tokenize.sent_tokenize(text)\n",
    "    sent_nums.append(len(sentences))\n",
    "    for sent in sentences:\n",
    "        sent_lens.append(len(text_to_word_sequence(sent)))\n",
    "    paras.append(sentences)"
   ]
  },
  {
   "cell_type": "code",
   "execution_count": 66,
   "metadata": {},
   "outputs": [],
   "source": [
    "#Generating lexical test input\n",
    "text_test = np.zeros((len(text_test), max_senten_num, SEQUENCE_LENGTH), dtype='int32')\n",
    "for i, sentences in enumerate(paras):\n",
    "    for j, sent in enumerate(sentences):\n",
    "        if j< max_senten_num:\n",
    "            wordTokens = text_to_word_sequence(sent)\n",
    "            k=0\n",
    "            for _, word in enumerate(wordTokens):\n",
    "                try:\n",
    "                    if k<SEQUENCE_LENGTH and tokenizer.word_index[word]<MAX_FEATURES:\n",
    "                        text_test[i,j,k] = tokenizer.word_index[word]\n",
    "                        k=k+1\n",
    "                except:\n",
    "                    #print(word)\n",
    "                    pass"
   ]
  },
  {
   "cell_type": "code",
   "execution_count": 67,
   "metadata": {},
   "outputs": [],
   "source": [
    "pos_train_features = pos_train_features.to_numpy()\n",
    "pos_test_features = pos_test_features.to_numpy()"
   ]
  },
  {
   "cell_type": "code",
   "execution_count": 68,
   "metadata": {},
   "outputs": [
    {
     "data": {
      "text/plain": [
       "(5484, 1, 35)"
      ]
     },
     "execution_count": 68,
     "metadata": {},
     "output_type": "execute_result"
    }
   ],
   "source": [
    "text_test.shape"
   ]
  },
  {
   "cell_type": "code",
   "execution_count": 69,
   "metadata": {},
   "outputs": [],
   "source": [
    "# pos_train_features = pos_train_features[:,None]\n",
    "# pos_test_features = pos_test_features[:,None]"
   ]
  },
  {
   "cell_type": "code",
   "execution_count": 70,
   "metadata": {},
   "outputs": [],
   "source": [
    "text_train = text_train.squeeze()\n",
    "text_test = text_test.squeeze() "
   ]
  },
  {
   "cell_type": "code",
   "execution_count": 71,
   "metadata": {},
   "outputs": [
    {
     "name": "stdout",
     "output_type": "stream",
     "text": [
      "(21933, 35)\n",
      "(5484, 35)\n"
     ]
    }
   ],
   "source": [
    "print(np.shape(pos_train_features))\n",
    "print(np.shape(pos_test_features))"
   ]
  },
  {
   "cell_type": "code",
   "execution_count": 72,
   "metadata": {},
   "outputs": [
    {
     "name": "stdout",
     "output_type": "stream",
     "text": [
      "(21933, 35)\n",
      "(5484, 35)\n"
     ]
    }
   ],
   "source": [
    "print(np.shape(text_train))\n",
    "print(np.shape(text_test))"
   ]
  },
  {
   "cell_type": "code",
   "execution_count": 73,
   "metadata": {},
   "outputs": [],
   "source": [
    "# One hot encode y labels\n",
    "author_lb = LabelBinarizer()\n",
    "author_lb.fit(author_train)\n",
    "author_train_hot = author_lb.transform(author_train)\n",
    "author_test_hot = author_lb.transform(author_test)"
   ]
  },
  {
   "cell_type": "code",
   "execution_count": 74,
   "metadata": {},
   "outputs": [
    {
     "name": "stdout",
     "output_type": "stream",
     "text": [
      "(5484, 35)\n",
      "(5484, 35)\n"
     ]
    }
   ],
   "source": [
    "print(text_test.shape)\n",
    "print(pos_test_features.shape)"
   ]
  },
  {
   "cell_type": "code",
   "execution_count": 75,
   "metadata": {},
   "outputs": [
    {
     "name": "stdout",
     "output_type": "stream",
     "text": [
      "(21933, 22)\n",
      "(5484, 22)\n"
     ]
    }
   ],
   "source": [
    "print(author_train_hot.shape)\n",
    "print(author_test_hot.shape)"
   ]
  },
  {
   "cell_type": "code",
   "execution_count": 76,
   "metadata": {},
   "outputs": [
    {
     "name": "stdout",
     "output_type": "stream",
     "text": [
      "Run: 1\n",
      "Epoch 1/10\n",
      "412/412 [==============================] - 40s 85ms/step - loss: 2.3619 - accuracy: 0.2606 - val_loss: 2.1746 - val_accuracy: 0.3192\n",
      "Epoch 2/10\n",
      "412/412 [==============================] - 30s 73ms/step - loss: 1.9747 - accuracy: 0.3775 - val_loss: 1.9482 - val_accuracy: 0.3923\n",
      "Epoch 3/10\n",
      "412/412 [==============================] - 30s 73ms/step - loss: 1.8024 - accuracy: 0.4312 - val_loss: 1.8879 - val_accuracy: 0.4224\n",
      "Epoch 4/10\n",
      "412/412 [==============================] - 30s 73ms/step - loss: 1.6860 - accuracy: 0.4687 - val_loss: 1.8786 - val_accuracy: 0.4190\n",
      "Epoch 5/10\n",
      "412/412 [==============================] - 31s 76ms/step - loss: 1.5890 - accuracy: 0.4959 - val_loss: 1.8310 - val_accuracy: 0.4443\n",
      "Epoch 6/10\n",
      "412/412 [==============================] - 31s 75ms/step - loss: 1.5139 - accuracy: 0.5187 - val_loss: 1.8097 - val_accuracy: 0.4593\n",
      "Epoch 7/10\n",
      "412/412 [==============================] - 32s 78ms/step - loss: 1.4451 - accuracy: 0.5380 - val_loss: 1.8985 - val_accuracy: 0.4402\n",
      "Epoch 8/10\n",
      "412/412 [==============================] - 32s 77ms/step - loss: 1.3802 - accuracy: 0.5593 - val_loss: 1.8915 - val_accuracy: 0.4409\n",
      "Epoch 9/10\n",
      "412/412 [==============================] - 32s 77ms/step - loss: 1.3205 - accuracy: 0.5795 - val_loss: 1.9218 - val_accuracy: 0.4429\n",
      "Epoch 10/10\n",
      "412/412 [==============================] - 32s 78ms/step - loss: 1.2660 - accuracy: 0.5924 - val_loss: 1.9260 - val_accuracy: 0.4484\n",
      "172/172 [==============================] - 3s 15ms/step\n",
      "Run: 2\n"
     ]
    },
    {
     "name": "stderr",
     "output_type": "stream",
     "text": [
      "c:\\Python39\\lib\\site-packages\\sklearn\\metrics\\_classification.py:1334: UndefinedMetricWarning: Precision and F-score are ill-defined and being set to 0.0 in labels with no predicted samples. Use `zero_division` parameter to control this behavior.\n",
      "  _warn_prf(average, modifier, msg_start, len(result))\n"
     ]
    },
    {
     "name": "stdout",
     "output_type": "stream",
     "text": [
      "Epoch 1/10\n",
      "412/412 [==============================] - 39s 82ms/step - loss: 2.3673 - accuracy: 0.2616 - val_loss: 2.0940 - val_accuracy: 0.3267\n",
      "Epoch 2/10\n",
      "412/412 [==============================] - 30s 72ms/step - loss: 1.9576 - accuracy: 0.3842 - val_loss: 1.9516 - val_accuracy: 0.3739\n",
      "Epoch 3/10\n",
      "412/412 [==============================] - 31s 74ms/step - loss: 1.7938 - accuracy: 0.4361 - val_loss: 1.9617 - val_accuracy: 0.3848\n",
      "Epoch 4/10\n",
      "412/412 [==============================] - 31s 75ms/step - loss: 1.6885 - accuracy: 0.4658 - val_loss: 1.9057 - val_accuracy: 0.4074\n",
      "Epoch 5/10\n",
      "412/412 [==============================] - 30s 73ms/step - loss: 1.5881 - accuracy: 0.4971 - val_loss: 1.8885 - val_accuracy: 0.4183\n",
      "Epoch 6/10\n",
      "412/412 [==============================] - 31s 76ms/step - loss: 1.5159 - accuracy: 0.5190 - val_loss: 1.8782 - val_accuracy: 0.4286\n",
      "Epoch 7/10\n",
      "412/412 [==============================] - 30s 74ms/step - loss: 1.4408 - accuracy: 0.5456 - val_loss: 1.9411 - val_accuracy: 0.4231\n",
      "Epoch 8/10\n",
      "412/412 [==============================] - 31s 75ms/step - loss: 1.3783 - accuracy: 0.5603 - val_loss: 2.0240 - val_accuracy: 0.4211\n",
      "Epoch 9/10\n",
      "412/412 [==============================] - 31s 75ms/step - loss: 1.3156 - accuracy: 0.5840 - val_loss: 2.0620 - val_accuracy: 0.4019\n",
      "Epoch 10/10\n",
      "412/412 [==============================] - 31s 76ms/step - loss: 1.2608 - accuracy: 0.5959 - val_loss: 2.0735 - val_accuracy: 0.4211\n",
      "172/172 [==============================] - 4s 15ms/step\n",
      "Run: 3\n",
      "Epoch 1/10\n",
      "412/412 [==============================] - 36s 73ms/step - loss: 2.3561 - accuracy: 0.2626 - val_loss: 2.0814 - val_accuracy: 0.3404\n",
      "Epoch 2/10\n",
      "412/412 [==============================] - 32s 78ms/step - loss: 1.9762 - accuracy: 0.3778 - val_loss: 1.9570 - val_accuracy: 0.3807\n",
      "Epoch 3/10\n",
      "412/412 [==============================] - 31s 75ms/step - loss: 1.8173 - accuracy: 0.4212 - val_loss: 1.8870 - val_accuracy: 0.4019\n",
      "Epoch 4/10\n",
      "412/412 [==============================] - 32s 76ms/step - loss: 1.7056 - accuracy: 0.4618 - val_loss: 1.8832 - val_accuracy: 0.4122\n",
      "Epoch 5/10\n",
      "412/412 [==============================] - 31s 76ms/step - loss: 1.6086 - accuracy: 0.4903 - val_loss: 1.8507 - val_accuracy: 0.4381\n",
      "Epoch 6/10\n",
      "412/412 [==============================] - 32s 77ms/step - loss: 1.5268 - accuracy: 0.5146 - val_loss: 1.8473 - val_accuracy: 0.4422\n",
      "Epoch 7/10\n",
      "412/412 [==============================] - 32s 77ms/step - loss: 1.4564 - accuracy: 0.5346 - val_loss: 1.9289 - val_accuracy: 0.4265\n",
      "Epoch 8/10\n",
      "412/412 [==============================] - 32s 77ms/step - loss: 1.3868 - accuracy: 0.5528 - val_loss: 1.9175 - val_accuracy: 0.4539\n",
      "Epoch 9/10\n",
      "412/412 [==============================] - 31s 74ms/step - loss: 1.3269 - accuracy: 0.5741 - val_loss: 1.8991 - val_accuracy: 0.4436\n",
      "Epoch 10/10\n",
      "412/412 [==============================] - 31s 76ms/step - loss: 1.2661 - accuracy: 0.5969 - val_loss: 1.9468 - val_accuracy: 0.4539\n",
      "172/172 [==============================] - 3s 14ms/step\n",
      "Test Accuracy: [0.4549598832968636, 0.4274252370532458, 0.44948942377826406]\n",
      "Ave. Precision: [0.4793688068339294, 0.4508186657738119, 0.4538841522271242]\n",
      "Ave. Recall: [0.45495988329686365, 0.4274252370532459, 0.44948942377826406]\n",
      "Ave. F1 Score: [0.45408748573141366, 0.42710191240896056, 0.441699317027236]\n"
     ]
    },
    {
     "name": "stderr",
     "output_type": "stream",
     "text": [
      "c:\\Python39\\lib\\site-packages\\sklearn\\metrics\\_classification.py:1334: UndefinedMetricWarning: Precision and F-score are ill-defined and being set to 0.0 in labels with no predicted samples. Use `zero_division` parameter to control this behavior.\n",
      "  _warn_prf(average, modifier, msg_start, len(result))\n"
     ]
    }
   ],
   "source": [
    "# Sets seed\n",
    "np.random.seed(28)\n",
    "kf = KFold(n_splits = NUMBER_K_FOLDS)\n",
    "\n",
    "test_accuracy_list = []\n",
    "prec_list = []\n",
    "recall_list = []\n",
    "f1_list = []\n",
    "training_time_list = []\n",
    "prediction_time_list = []\n",
    "full_history =[]\n",
    "\n",
    "run = 0\n",
    "\n",
    "\n",
    "for train_inds, _ in kf.split(text_train):\n",
    "    run += 1\n",
    "    print('Run:', run)\n",
    "\n",
    "    train_x_text = np.array([text_train[i] for i in train_inds])\n",
    "    train_x_pos = np.array([pos_train_features[i] for i in train_inds])\n",
    "    train_y = np.array([author_train_hot[i] for i in train_inds])\n",
    "       \n",
    "    t0 = time.time()\n",
    "    # Fit model\n",
    "    han_model = define_model(SEQUENCE_LENGTH, Syntaxical_length, OUTPUT_CLASSES,embedding_dims= EMBEDDING_DIMENSIONS,vocab_sizes= MAX_FEATURES+1,\n",
    "     conv_filters=COV_FILTERS, kernel_sizes=KERNEL_SIZES, verbose = False, learning=LEARNING_RATE)\n",
    "\n",
    "    \n",
    "    histroy = han_model.fit([train_x_text,train_x_pos], train_y, epochs=EPOCH_LENGTH, batch_size=BATCH_SIZE, verbose = VERBOSE,validation_split = VALIDATION_PERCENTAGE)\n",
    "  \n",
    "    t1 = time.time()\n",
    "    \n",
    "    # Predict values for test set\n",
    "    author_pred1 = han_model.predict([text_test,pos_test_features])\n",
    "    author_pred1 = author_lb.inverse_transform(author_pred1)\n",
    "\n",
    "    t2 = time.time()\n",
    "\n",
    "    # Evaluate\n",
    "    test_accuracy = accuracy_score(author_test, author_pred1)\n",
    "    precision, recall, f1, support = score(author_test, author_pred1)\n",
    "    ave_precision = np.average(precision, weights = support/np.sum(support))\n",
    "    ave_recall = np.average(recall, weights = support/np.sum(support))\n",
    "    ave_f1 = np.average(f1, weights = support/np.sum(support))\n",
    "    training_time = (t1 - t0)\n",
    "    prediction_time = (t2 - t1)\n",
    "    \n",
    "    test_accuracy_list.append(test_accuracy)\n",
    "    prec_list.append(ave_precision)\n",
    "    recall_list.append(ave_recall)\n",
    "    f1_list.append(ave_f1)\n",
    "    training_time_list.append(training_time)\n",
    "    prediction_time_list.append(prediction_time)\n",
    "    full_history.append(histroy)\n",
    "\n",
    "print(\"Test Accuracy:\", test_accuracy_list)\n",
    "print(\"Ave. Precision:\", prec_list)\n",
    "print(\"Ave. Recall:\", recall_list)\n",
    "print(\"Ave. F1 Score:\", f1_list)"
   ]
  },
  {
   "cell_type": "code",
   "execution_count": 77,
   "metadata": {},
   "outputs": [
    {
     "name": "stdout",
     "output_type": "stream",
     "text": [
      "Average Accuracy across K-folds: 0.44395818137612447\n",
      "Average Precision across K-folds: 0.46135720827828847\n",
      "Average Recall across K-folds: 0.4439581813761246\n",
      "Average F1 Score across K-folds: 0.4409629050558701\n",
      "Average Training Time across K-folds: 319.52817249298096 seconds\n",
      "Prediction Time across K-folds: 3.4538075923919678 seconds\n"
     ]
    }
   ],
   "source": [
    "#Get averages for kfold runs\n",
    "mean_accuracy_across_kfold = np.mean(test_accuracy_list)\n",
    "mean_percision_across_kfold = np.mean(prec_list)\n",
    "mean_recall_across_kfold = np.mean(recall_list)\n",
    "mean_f1_across_kfold = np.mean(f1_list)\n",
    "\n",
    "\n",
    "print(\"Average Accuracy across K-folds:\", mean_accuracy_across_kfold)\n",
    "print(\"Average Precision across K-folds:\", mean_percision_across_kfold)\n",
    "print(\"Average Recall across K-folds:\", mean_recall_across_kfold)\n",
    "print(\"Average F1 Score across K-folds:\", mean_f1_across_kfold)\n",
    "print(\"Average Training Time across K-folds:\", (t1 - t0), \"seconds\")\n",
    "print(\"Prediction Time across K-folds:\", (t2 - t1), \"seconds\")"
   ]
  },
  {
   "cell_type": "code",
   "execution_count": 78,
   "metadata": {},
   "outputs": [],
   "source": [
    "average_test_loss_accross_kfold = []\n",
    "average_validation_loss_accross_kfold = []\n",
    "average_test_accuracy_accross_kfold = []\n",
    "average_validation_accuracy_accross_kfold = []\n",
    "\n",
    "for i in range(len(full_history)):\n",
    "    average_test_loss_accross_kfold.append(full_history[i].history['loss'])\n",
    "    average_validation_loss_accross_kfold.append(full_history[i].history['val_loss'])\n",
    "\n",
    "    average_test_accuracy_accross_kfold.append(full_history[i].history['accuracy'])\n",
    "    average_validation_accuracy_accross_kfold.append(full_history[i].history['val_accuracy'])\n",
    "\n",
    "average_loss_accross_kfold = np.mean(average_test_loss_accross_kfold,axis=0)\n",
    "average_validation_loss_accross_kfold = np.mean(average_validation_loss_accross_kfold,axis=0)\n",
    "\n",
    "average_accuracy_accross_kfold = np.mean(average_test_accuracy_accross_kfold,axis=0)\n",
    "average_validation_accuracy_accross_kfold = np.mean(average_validation_accuracy_accross_kfold,axis=0)\n"
   ]
  },
  {
   "cell_type": "code",
   "execution_count": 79,
   "metadata": {},
   "outputs": [
    {
     "name": "stderr",
     "output_type": "stream",
     "text": [
      "The PostScript backend does not support transparency; partially transparent artists will be rendered opaque.\n"
     ]
    },
    {
     "data": {
      "image/png": "[encoded data removed]",
      "text/plain": [
       "<Figure size 640x480 with 1 Axes>"
      ]
     },
     "metadata": {},
     "output_type": "display_data"
    }
   ],
   "source": [
    "# summarize history for accuracy\n",
    "plt.plot(average_accuracy_accross_kfold)\n",
    "plt.plot(average_validation_accuracy_accross_kfold)\n",
    "plt.title('Style HAN Network Accuracy')\n",
    "plt.ylabel('accuracy')\n",
    "plt.xlabel('epoch')\n",
    "plt.legend(['Train', 'Validation'], loc='upper left')\n",
    "plt.savefig(\"outputs/style_han_network_acc.eps\", format='eps')\n",
    "plt.show()\n",
    "\n",
    "\n"
   ]
  },
  {
   "cell_type": "code",
   "execution_count": 80,
   "metadata": {},
   "outputs": [
    {
     "name": "stderr",
     "output_type": "stream",
     "text": [
      "The PostScript backend does not support transparency; partially transparent artists will be rendered opaque.\n"
     ]
    },
    {
     "data": {
      "image/png": "[encoded data removed]",
      "text/plain": [
       "<Figure size 640x480 with 1 Axes>"
      ]
     },
     "metadata": {},
     "output_type": "display_data"
    }
   ],
   "source": [
    "# summarize history for loss\n",
    "plt.plot(average_loss_accross_kfold)\n",
    "plt.plot(average_validation_loss_accross_kfold)\n",
    "plt.title('Style HAN Network loss')\n",
    "plt.ylabel('loss')\n",
    "plt.xlabel('epoch')\n",
    "plt.legend(['Train', 'Validation'], loc='upper left')\n",
    "plt.savefig(\"outputs/style_han_network_loss.eps\", format='eps')\n",
    "plt.show()\n"
   ]
  }
 ],
 "metadata": {
  "kernelspec": {
   "display_name": "Python 3.9.6 64-bit",
   "language": "python",
   "name": "python3"
  },
  "language_info": {
   "codemirror_mode": {
    "name": "ipython",
    "version": 3
   },
   "file_extension": ".py",
   "mimetype": "text/x-python",
   "name": "python",
   "nbconvert_exporter": "python",
   "pygments_lexer": "ipython3",
   "version": "3.9.6"
  },
  "orig_nbformat": 4,
  "vscode": {
   "interpreter": {
    "hash": "81794d4967e6c3204c66dcd87b604927b115b27c00565d3d43f05ba2f3a2cb0d"
   }
  }
 },
 "nbformat": 4,
 "nbformat_minor": 2
}
