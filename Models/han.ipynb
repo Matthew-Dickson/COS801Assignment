{
 "cells": [
  {
   "cell_type": "code",
   "execution_count": 1,
   "metadata": {},
   "outputs": [
    {
     "name": "stderr",
     "output_type": "stream",
     "text": [
      "c:\\Python39\\lib\\site-packages\\requests\\__init__.py:102: RequestsDependencyWarning: urllib3 (1.26.7) or chardet (5.0.0)/charset_normalizer (2.0.9) doesn't match a supported version!\n",
      "  warnings.warn(\"urllib3 ({}) or chardet ({})/charset_normalizer ({}) doesn't match a supported \"\n"
     ]
    }
   ],
   "source": [
    "# Import packages\n",
    "import numpy as np\n",
    "import pandas as pd\n",
    "import matplotlib.pyplot as plt\n",
    "import time\n",
    "import nltk\n",
    "\n",
    "from sklearn.model_selection import train_test_split, KFold\n",
    "from sklearn.metrics import accuracy_score\n",
    "from sklearn.metrics import precision_recall_fscore_support as score\n",
    "from sklearn.preprocessing import LabelBinarizer\n",
    "\n",
    "from keras.models import Model\n",
    "from keras.layers import Input, Dense, Flatten, Dropout, Embedding,Attention\n",
    "from keras.layers.convolutional import Conv1D, MaxPooling1D,Conv2D\n",
    "from tensorflow.keras.layers import concatenate\n",
    "from keras.optimizers import Adam\n",
    "from sklearn.preprocessing import LabelEncoder\n",
    "import tensorflow as tf\n",
    "from scipy import sparse, stats\n",
    "import utils.text_processing as util\n",
    "from sklearn.feature_extraction.text import TfidfVectorizer\n",
    "## for word embedding\n",
    "import gensim\n",
    "import seaborn as sns\n",
    "\n",
    "from sklearn import feature_extraction, model_selection, naive_bayes, pipeline, manifold, preprocessing\n",
    "\n",
    "\n",
    "import pandas as pd\n",
    "import numpy as np\n",
    "from keras.preprocessing.text import Tokenizer,  text_to_word_sequence\n",
    "from tensorflow.keras.layers import Layer, InputSpec\n",
    "from keras import initializers as initializers, regularizers, constraints\n",
    "from keras.callbacks import Callback, ModelCheckpoint\n",
    "from keras.utils.np_utils import to_categorical\n",
    "from keras.layers import Embedding, Input, Dense, LSTM, GRU, Bidirectional, TimeDistributed, Dropout\n",
    "from keras import backend as K\n",
    "from keras import optimizers\n",
    "from keras.models import Model\n",
    "import nltk\n",
    "import re\n",
    "import matplotlib.pyplot as plt\n",
    "import sys\n",
    "from sklearn.metrics import roc_auc_score\n",
    "from nltk import tokenize\n",
    "import seaborn as sns\n",
    "import utils.math as math_util\n",
    "import custom.attention_with_context as custom"
   ]
  },
  {
   "cell_type": "code",
   "execution_count": 2,
   "metadata": {},
   "outputs": [],
   "source": [
    "#Parameters\n",
    "FILE_NAME = \"../Data/processed_data.csv\"\n",
    "Y_LABEL_NAME=\"username\"\n",
    "X_LABEL_NAME=\"raw_text\"\n",
    "OUTPUT_CLASSES = 22\n",
    "\n",
    "SEQUENCE_LENGTH = 35\n",
    "MAX_SENTENCE_NUMBER = 1\n",
    "EMBEDDING_DIMENSIONS =100\n",
    "BATCH_SIZE = 32\n",
    "EPOCH_LENGTH = 10\n",
    "NUMBER_K_FOLDS = 3\n",
    "LEARNING_RATE = 0.0005\n",
    "VALIDATION_PERCENTAGE = 0.1\n",
    "TEST_SIZE_PERCENTAGE = 0.2\n",
    "L2_REG = regularizers.l2(1e-13)\n",
    "\n",
    "COV_FILTERS = [50,100]\n",
    "KERNEL_SIZES = [1,1]\n",
    "\n",
    "VERBOSE = 1\n"
   ]
  },
  {
   "cell_type": "code",
   "execution_count": 3,
   "metadata": {},
   "outputs": [],
   "source": [
    "def define_model(input_len, max_senten_num, output_size, vocab_sizes, embedding_dims = 100, verbose = True,\n",
    "                drop_out_pct = 0.25, conv_filters = [50,100], kernel_sizes = [1,1], lstm_layers_size = [50], activation_fn = 'tanh', output_activation = \"softmax\",\n",
    "                 pool_sizes = [1,1], learning = 0.0005,l2_reg=regularizers.l2(1e-13)):\n",
    "\n",
    "    word_input = Input(shape=(input_len,), dtype='float32')\n",
    "    word_sequences = Embedding(vocab_sizes ,embedding_dims)(word_input)\n",
    "\n",
    "    conv1_1 = Conv1D(filters = conv_filters[0], kernel_size = kernel_sizes[0], activation = activation_fn, padding='same')(word_sequences)\n",
    "    pool1 = MaxPooling1D(pool_size = pool_sizes[0])(conv1_1)\n",
    "    conv1_2 = Conv1D(filters = conv_filters[1], kernel_size = kernel_sizes[0], activation = activation_fn)(conv1_1)\n",
    "    pool1 = MaxPooling1D(pool_size = pool_sizes[1])(conv1_2)\n",
    "    word_attention = custom.AttentionWithContext()(pool1)\n",
    "    wordEncoder = Model(word_input, word_attention)\n",
    "\n",
    "    sentence_input = Input(shape=(max_senten_num, input_len), dtype='float32')\n",
    "    sentence_encoder = TimeDistributed(wordEncoder)(sentence_input)\n",
    "    sentence_lstm = Bidirectional(LSTM(lstm_layers_size[0], return_sequences=True, kernel_regularizer=l2_reg))(sentence_encoder)\n",
    "    sentence_attention = Dropout(0.2)(custom.AttentionWithContext()(sentence_lstm))\n",
    "    output = Dense(output_size, activation=output_activation)(sentence_attention)\n",
    "\n",
    "    # Create model\n",
    "    model = Model(sentence_input, output)\n",
    "\n",
    "    # Compile model\n",
    "    model.compile(loss='categorical_crossentropy', optimizer = Adam(learning_rate = learning), metrics=['accuracy'])\n",
    "    \n",
    "    if verbose:\n",
    "        print(model.summary())\n",
    "        \n",
    "    return model"
   ]
  },
  {
   "cell_type": "code",
   "execution_count": 4,
   "metadata": {},
   "outputs": [],
   "source": [
    "#Read data\n",
    "data = pd.read_csv(FILE_NAME)"
   ]
  },
  {
   "cell_type": "code",
   "execution_count": 5,
   "metadata": {},
   "outputs": [],
   "source": [
    "#Get text and y label\n",
    "text = data[X_LABEL_NAME]\n",
    "author = data[Y_LABEL_NAME]"
   ]
  },
  {
   "cell_type": "code",
   "execution_count": 6,
   "metadata": {},
   "outputs": [],
   "source": [
    "#Split data\n",
    "text_train, text_test, author_train, author_test = train_test_split(text, author, test_size = TEST_SIZE_PERCENTAGE, random_state = 5)"
   ]
  },
  {
   "cell_type": "code",
   "execution_count": 7,
   "metadata": {},
   "outputs": [
    {
     "name": "stdout",
     "output_type": "stream",
     "text": [
      "(21933,)\n",
      "(5484,)\n",
      "(21933,)\n",
      "(5484,)\n"
     ]
    }
   ],
   "source": [
    "# Check shapes of created datasets\n",
    "print(np.shape(text_train))\n",
    "print(np.shape(text_test))\n",
    "print(np.shape(author_train))\n",
    "print(np.shape(author_test))"
   ]
  },
  {
   "cell_type": "code",
   "execution_count": 8,
   "metadata": {},
   "outputs": [
    {
     "name": "stdout",
     "output_type": "stream",
     "text": [
      "Vocab size for n = 1 is: 62\n",
      "Vocab size for n = 2 is: 3178\n",
      "Vocab size for n = 3 is: 31569\n"
     ]
    }
   ],
   "source": [
    "# Determine vocab sizes for n-grams\n",
    "vocab_sizes = []\n",
    "for i in range(1, 4):\n",
    "    vocab_size = util.get_vocab_size(text_train, i, SEQUENCE_LENGTH)\n",
    "    vocab_sizes.append(vocab_size)\n",
    "    print('Vocab size for n =', i, 'is:', vocab_size)"
   ]
  },
  {
   "cell_type": "code",
   "execution_count": 9,
   "metadata": {},
   "outputs": [],
   "source": [
    "gram1_train = util.create_n_grams(text_train, 1, vocab_sizes[0], SEQUENCE_LENGTH)\n",
    "gram2_train = util.create_n_grams(text_train, 2, vocab_sizes[1], SEQUENCE_LENGTH)\n",
    "gram3_train = util.create_n_grams(text_train, 3, vocab_sizes[2], SEQUENCE_LENGTH)\n",
    "\n",
    "\n",
    "gram1_test = util.create_n_grams(text_test, 1, vocab_sizes[0], SEQUENCE_LENGTH)\n",
    "gram2_test = util.create_n_grams(text_test, 2, vocab_sizes[1], SEQUENCE_LENGTH)\n",
    "gram3_test = util.create_n_grams(text_test, 3, vocab_sizes[2], SEQUENCE_LENGTH)"
   ]
  },
  {
   "cell_type": "code",
   "execution_count": 10,
   "metadata": {},
   "outputs": [
    {
     "name": "stdout",
     "output_type": "stream",
     "text": [
      "Maximum encoding value for 1-grams is:  79\n",
      "Maximum encoding value for 2-grams is:  4130\n",
      "Maximum encoding value for 3-grams is:  41037\n"
     ]
    }
   ],
   "source": [
    "# Determine maximum value of n-gram encodings (this is used to set the CNN embedding dimension)\n",
    "max_1gram = np.max(gram1_train)\n",
    "max_2gram = np.max(gram2_train)\n",
    "max_3gram = np.max(gram3_train)\n",
    "\n",
    "print('Maximum encoding value for 1-grams is: ', max_1gram)\n",
    "print('Maximum encoding value for 2-grams is: ', max_2gram)\n",
    "print('Maximum encoding value for 3-grams is: ', max_3gram)"
   ]
  },
  {
   "cell_type": "code",
   "execution_count": 11,
   "metadata": {},
   "outputs": [],
   "source": [
    "gram3_train = gram3_train[:,None]\n",
    "gram3_test = gram3_test[:,None]"
   ]
  },
  {
   "cell_type": "code",
   "execution_count": 12,
   "metadata": {},
   "outputs": [
    {
     "name": "stdout",
     "output_type": "stream",
     "text": [
      "(21933, 1, 35)\n",
      "(5484, 1, 35)\n"
     ]
    }
   ],
   "source": [
    "print(np.shape(gram3_train))\n",
    "print(np.shape(gram3_test))"
   ]
  },
  {
   "cell_type": "code",
   "execution_count": 13,
   "metadata": {},
   "outputs": [],
   "source": [
    "# One hot encode y labels\n",
    "author_lb = LabelBinarizer()\n",
    "author_lb.fit(author_train)\n",
    "author_train_hot = author_lb.transform(author_train)\n",
    "author_test_hot = author_lb.transform(author_test)"
   ]
  },
  {
   "cell_type": "code",
   "execution_count": 14,
   "metadata": {},
   "outputs": [
    {
     "name": "stdout",
     "output_type": "stream",
     "text": [
      "Run: 1\n",
      "Epoch 1/10\n",
      "412/412 [==============================] - 17s 35ms/step - loss: 2.7360 - accuracy: 0.1280 - val_loss: 2.5682 - val_accuracy: 0.1743\n",
      "Epoch 2/10\n",
      "412/412 [==============================] - 14s 33ms/step - loss: 2.3861 - accuracy: 0.2499 - val_loss: 2.1686 - val_accuracy: 0.3472\n",
      "Epoch 3/10\n",
      "412/412 [==============================] - 14s 33ms/step - loss: 1.9622 - accuracy: 0.4036 - val_loss: 1.8926 - val_accuracy: 0.4231\n",
      "Epoch 4/10\n",
      "412/412 [==============================] - 14s 33ms/step - loss: 1.6189 - accuracy: 0.5096 - val_loss: 1.7034 - val_accuracy: 0.4976\n",
      "Epoch 5/10\n",
      "412/412 [==============================] - 14s 33ms/step - loss: 1.3475 - accuracy: 0.5963 - val_loss: 1.6216 - val_accuracy: 0.5393\n",
      "Epoch 6/10\n",
      "412/412 [==============================] - 14s 33ms/step - loss: 1.1283 - accuracy: 0.6713 - val_loss: 1.6498 - val_accuracy: 0.5496\n",
      "Epoch 7/10\n",
      "412/412 [==============================] - 14s 33ms/step - loss: 0.9626 - accuracy: 0.7214 - val_loss: 1.7035 - val_accuracy: 0.5530\n",
      "Epoch 8/10\n",
      "412/412 [==============================] - 14s 33ms/step - loss: 0.8307 - accuracy: 0.7618 - val_loss: 1.7916 - val_accuracy: 0.5557\n",
      "Epoch 9/10\n",
      "412/412 [==============================] - 14s 33ms/step - loss: 0.7282 - accuracy: 0.7903 - val_loss: 1.9367 - val_accuracy: 0.5550\n",
      "Epoch 10/10\n",
      "412/412 [==============================] - 13s 32ms/step - loss: 0.6438 - accuracy: 0.8140 - val_loss: 2.0475 - val_accuracy: 0.5468\n",
      "172/172 [==============================] - 1s 2ms/step\n",
      "Run: 2\n"
     ]
    },
    {
     "name": "stderr",
     "output_type": "stream",
     "text": [
      "c:\\Python39\\lib\\site-packages\\sklearn\\metrics\\_classification.py:1334: UndefinedMetricWarning: Precision and F-score are ill-defined and being set to 0.0 in labels with no predicted samples. Use `zero_division` parameter to control this behavior.\n",
      "  _warn_prf(average, modifier, msg_start, len(result))\n"
     ]
    },
    {
     "name": "stdout",
     "output_type": "stream",
     "text": [
      "Epoch 1/10\n",
      "412/412 [==============================] - 17s 36ms/step - loss: 2.7392 - accuracy: 0.1271 - val_loss: 2.5604 - val_accuracy: 0.1900\n",
      "Epoch 2/10\n",
      "412/412 [==============================] - 13s 32ms/step - loss: 2.4008 - accuracy: 0.2642 - val_loss: 2.1929 - val_accuracy: 0.3240\n",
      "Epoch 3/10\n",
      "412/412 [==============================] - 14s 33ms/step - loss: 1.9619 - accuracy: 0.4203 - val_loss: 1.8221 - val_accuracy: 0.4689\n",
      "Epoch 4/10\n",
      "412/412 [==============================] - 13s 32ms/step - loss: 1.5291 - accuracy: 0.5509 - val_loss: 1.6664 - val_accuracy: 0.5195\n",
      "Epoch 5/10\n",
      "412/412 [==============================] - 14s 34ms/step - loss: 1.2413 - accuracy: 0.6303 - val_loss: 1.6214 - val_accuracy: 0.5373\n",
      "Epoch 6/10\n",
      "412/412 [==============================] - 14s 34ms/step - loss: 1.0379 - accuracy: 0.6950 - val_loss: 1.6761 - val_accuracy: 0.5475\n",
      "Epoch 7/10\n",
      "412/412 [==============================] - 14s 33ms/step - loss: 0.8775 - accuracy: 0.7445 - val_loss: 1.8067 - val_accuracy: 0.5468\n",
      "Epoch 8/10\n",
      "412/412 [==============================] - 14s 34ms/step - loss: 0.7549 - accuracy: 0.7817 - val_loss: 1.9969 - val_accuracy: 0.5427\n",
      "Epoch 9/10\n",
      "412/412 [==============================] - 14s 35ms/step - loss: 0.6574 - accuracy: 0.8099 - val_loss: 1.9743 - val_accuracy: 0.5489\n",
      "Epoch 10/10\n",
      "412/412 [==============================] - 14s 33ms/step - loss: 0.5699 - accuracy: 0.8381 - val_loss: 2.1189 - val_accuracy: 0.5448\n",
      "172/172 [==============================] - 1s 2ms/step\n",
      "Run: 3\n"
     ]
    },
    {
     "name": "stderr",
     "output_type": "stream",
     "text": [
      "c:\\Python39\\lib\\site-packages\\sklearn\\metrics\\_classification.py:1334: UndefinedMetricWarning: Precision and F-score are ill-defined and being set to 0.0 in labels with no predicted samples. Use `zero_division` parameter to control this behavior.\n",
      "  _warn_prf(average, modifier, msg_start, len(result))\n"
     ]
    },
    {
     "name": "stdout",
     "output_type": "stream",
     "text": [
      "Epoch 1/10\n",
      "412/412 [==============================] - 17s 35ms/step - loss: 2.7476 - accuracy: 0.1258 - val_loss: 2.5672 - val_accuracy: 0.1688\n",
      "Epoch 2/10\n",
      "412/412 [==============================] - 14s 34ms/step - loss: 2.3814 - accuracy: 0.2712 - val_loss: 2.1301 - val_accuracy: 0.3568\n",
      "Epoch 3/10\n",
      "412/412 [==============================] - 14s 35ms/step - loss: 1.9453 - accuracy: 0.4271 - val_loss: 1.8324 - val_accuracy: 0.4552\n",
      "Epoch 4/10\n",
      "412/412 [==============================] - 14s 34ms/step - loss: 1.5601 - accuracy: 0.5412 - val_loss: 1.7261 - val_accuracy: 0.4956\n",
      "Epoch 5/10\n",
      "412/412 [==============================] - 14s 34ms/step - loss: 1.2795 - accuracy: 0.6243 - val_loss: 1.7286 - val_accuracy: 0.5208\n",
      "Epoch 6/10\n",
      "412/412 [==============================] - 14s 33ms/step - loss: 1.0795 - accuracy: 0.6807 - val_loss: 1.7708 - val_accuracy: 0.5195\n",
      "Epoch 7/10\n",
      "412/412 [==============================] - 14s 34ms/step - loss: 0.9288 - accuracy: 0.7263 - val_loss: 1.8669 - val_accuracy: 0.5188\n",
      "Epoch 8/10\n",
      "412/412 [==============================] - 14s 35ms/step - loss: 0.8110 - accuracy: 0.7641 - val_loss: 2.0187 - val_accuracy: 0.5126\n",
      "Epoch 9/10\n",
      "412/412 [==============================] - 14s 35ms/step - loss: 0.7135 - accuracy: 0.7941 - val_loss: 2.1371 - val_accuracy: 0.5010\n",
      "Epoch 10/10\n",
      "412/412 [==============================] - 14s 34ms/step - loss: 0.6389 - accuracy: 0.8172 - val_loss: 2.2780 - val_accuracy: 0.5072\n",
      "172/172 [==============================] - 1s 2ms/step\n",
      "Test Accuracy: [0.5151349380014588, 0.5328227571115973, 0.5289934354485777]\n",
      "Ave. Precision: [0.5057997314234973, 0.5283505804911421, 0.5313963453802738]\n",
      "Ave. Recall: [0.5151349380014589, 0.5328227571115974, 0.5289934354485777]\n",
      "Ave. F1 Score: [0.5073097447338306, 0.5278446774130297, 0.5256064678815504]\n"
     ]
    },
    {
     "name": "stderr",
     "output_type": "stream",
     "text": [
      "c:\\Python39\\lib\\site-packages\\sklearn\\metrics\\_classification.py:1334: UndefinedMetricWarning: Precision and F-score are ill-defined and being set to 0.0 in labels with no predicted samples. Use `zero_division` parameter to control this behavior.\n",
      "  _warn_prf(average, modifier, msg_start, len(result))\n"
     ]
    }
   ],
   "source": [
    "# Sets seed\n",
    "np.random.seed(28)\n",
    "kf = KFold(n_splits = NUMBER_K_FOLDS)\n",
    "\n",
    "test_accuracy_list = []\n",
    "prec_list = []\n",
    "recall_list = []\n",
    "f1_list = []\n",
    "training_time_list = []\n",
    "prediction_time_list = []\n",
    "full_history =[]\n",
    "\n",
    "run = 0\n",
    "\n",
    "\n",
    "for train_inds, _ in kf.split(gram3_train):\n",
    "    run += 1\n",
    "    print('Run:', run)\n",
    "       \n",
    "    train_x = np.array([gram3_train[i] for i in train_inds])\n",
    "    train_y = np.array([author_train_hot[i] for i in train_inds])\n",
    "       \n",
    "    t0 = time.time()\n",
    "    # Fit model\n",
    "    han_model = define_model(SEQUENCE_LENGTH,MAX_SENTENCE_NUMBER, OUTPUT_CLASSES,embedding_dims= EMBEDDING_DIMENSIONS,vocab_sizes= max_3gram+1,\n",
    "     conv_filters=COV_FILTERS, kernel_sizes=KERNEL_SIZES, verbose = False, learning=LEARNING_RATE)\n",
    "\n",
    "    histroy = han_model.fit([train_x], train_y, epochs=EPOCH_LENGTH, batch_size=BATCH_SIZE, verbose = VERBOSE,validation_split = VALIDATION_PERCENTAGE)\n",
    "  \n",
    "    t1 = time.time()\n",
    "    \n",
    "    # Predict values for test set\n",
    "    author_pred1 = han_model.predict([gram3_test])\n",
    "    author_pred1 = author_lb.inverse_transform(author_pred1)\n",
    "\n",
    "    t2 = time.time()\n",
    "\n",
    "    # Evaluate\n",
    "    test_accuracy = accuracy_score(author_test, author_pred1)\n",
    "    precision, recall, f1, support = score(author_test, author_pred1)\n",
    "    ave_precision = np.average(precision, weights = support/np.sum(support))\n",
    "    ave_recall = np.average(recall, weights = support/np.sum(support))\n",
    "    ave_f1 = np.average(f1, weights = support/np.sum(support))\n",
    "    training_time = (t1 - t0)\n",
    "    prediction_time = (t2 - t1)\n",
    "    \n",
    "    test_accuracy_list.append(test_accuracy)\n",
    "    prec_list.append(ave_precision)\n",
    "    recall_list.append(ave_recall)\n",
    "    f1_list.append(ave_f1)\n",
    "    training_time_list.append(training_time)\n",
    "    prediction_time_list.append(prediction_time)\n",
    "    full_history.append(histroy)\n",
    "\n",
    "print(\"Test Accuracy:\", test_accuracy_list)\n",
    "print(\"Ave. Precision:\", prec_list)\n",
    "print(\"Ave. Recall:\", recall_list)\n",
    "print(\"Ave. F1 Score:\", f1_list)"
   ]
  },
  {
   "cell_type": "code",
   "execution_count": 15,
   "metadata": {},
   "outputs": [
    {
     "name": "stdout",
     "output_type": "stream",
     "text": [
      "Average Accuracy across K-folds: 0.5256503768538779\n",
      "Average Precision across K-folds: 0.521848885764971\n",
      "Average Recall across K-folds: 0.5256503768538779\n",
      "Average F1 Score across K-folds: 0.5202536300094702\n",
      "Average Training Time across K-folds: 144.3989541530609 seconds\n",
      "Prediction Time across K-folds: 1.2099993228912354 seconds\n"
     ]
    }
   ],
   "source": [
    "#Get averages for kfold runs\n",
    "mean_accuracy_across_kfold = np.mean(test_accuracy_list)\n",
    "mean_percision_across_kfold = np.mean(prec_list)\n",
    "mean_recall_across_kfold = np.mean(recall_list)\n",
    "mean_f1_across_kfold = np.mean(f1_list)\n",
    "\n",
    "\n",
    "print(\"Average Accuracy across K-folds:\", mean_accuracy_across_kfold)\n",
    "print(\"Average Precision across K-folds:\", mean_percision_across_kfold)\n",
    "print(\"Average Recall across K-folds:\", mean_recall_across_kfold)\n",
    "print(\"Average F1 Score across K-folds:\", mean_f1_across_kfold)\n",
    "print(\"Average Training Time across K-folds:\", (t1 - t0), \"seconds\")\n",
    "print(\"Prediction Time across K-folds:\", (t2 - t1), \"seconds\")"
   ]
  },
  {
   "cell_type": "code",
   "execution_count": 16,
   "metadata": {},
   "outputs": [],
   "source": [
    "average_test_loss_accross_kfold = []\n",
    "average_validation_loss_accross_kfold = []\n",
    "average_test_accuracy_accross_kfold = []\n",
    "average_validation_accuracy_accross_kfold = []\n",
    "\n",
    "for i in range(len(full_history)):\n",
    "    average_test_loss_accross_kfold.append(full_history[i].history['loss'])\n",
    "    average_validation_loss_accross_kfold.append(full_history[i].history['val_loss'])\n",
    "\n",
    "    average_test_accuracy_accross_kfold.append(full_history[i].history['accuracy'])\n",
    "    average_validation_accuracy_accross_kfold.append(full_history[i].history['val_accuracy'])\n",
    "\n",
    "average_loss_accross_kfold = np.mean(average_test_loss_accross_kfold,axis=0)\n",
    "average_validation_loss_accross_kfold = np.mean(average_validation_loss_accross_kfold,axis=0)\n",
    "\n",
    "average_accuracy_accross_kfold = np.mean(average_test_accuracy_accross_kfold,axis=0)\n",
    "average_validation_accuracy_accross_kfold = np.mean(average_validation_accuracy_accross_kfold,axis=0)\n"
   ]
  },
  {
   "cell_type": "code",
   "execution_count": 17,
   "metadata": {},
   "outputs": [
    {
     "name": "stderr",
     "output_type": "stream",
     "text": [
      "The PostScript backend does not support transparency; partially transparent artists will be rendered opaque.\n"
     ]
    },
    {
     "data": {
      "image/png": "[encoded data removed]",
      "text/plain": [
       "<Figure size 640x480 with 1 Axes>"
      ]
     },
     "metadata": {},
     "output_type": "display_data"
    }
   ],
   "source": [
    "# summarize history for accuracy\n",
    "plt.plot(average_accuracy_accross_kfold)\n",
    "plt.plot(average_validation_accuracy_accross_kfold)\n",
    "plt.title('HAN Network Accuracy')\n",
    "plt.ylabel('accuracy')\n",
    "plt.xlabel('epoch')\n",
    "plt.legend(['Train', 'Validation'], loc='upper left')\n",
    "plt.savefig(\"outputs/han_network_acc.eps\", format='eps')\n",
    "plt.show()\n",
    "\n",
    "\n"
   ]
  },
  {
   "cell_type": "code",
   "execution_count": 18,
   "metadata": {},
   "outputs": [
    {
     "name": "stderr",
     "output_type": "stream",
     "text": [
      "The PostScript backend does not support transparency; partially transparent artists will be rendered opaque.\n"
     ]
    },
    {
     "data": {
      "image/png": "[encoded data removed]",
      "text/plain": [
       "<Figure size 640x480 with 1 Axes>"
      ]
     },
     "metadata": {},
     "output_type": "display_data"
    }
   ],
   "source": [
    "# summarize history for loss\n",
    "plt.plot(average_loss_accross_kfold)\n",
    "plt.plot(average_validation_loss_accross_kfold)\n",
    "plt.title('HAN Network loss')\n",
    "plt.ylabel('loss')\n",
    "plt.xlabel('epoch')\n",
    "plt.legend(['Train', 'Validation'], loc='upper left')\n",
    "plt.savefig(\"outputs/han_network_loss.eps\", format='eps')\n",
    "plt.show()\n"
   ]
  }
 ],
 "metadata": {
  "kernelspec": {
   "display_name": "Python 3.9.6 64-bit",
   "language": "python",
   "name": "python3"
  },
  "language_info": {
   "codemirror_mode": {
    "name": "ipython",
    "version": 3
   },
   "file_extension": ".py",
   "mimetype": "text/x-python",
   "name": "python",
   "nbconvert_exporter": "python",
   "pygments_lexer": "ipython3",
   "version": "3.9.6"
  },
  "orig_nbformat": 4,
  "vscode": {
   "interpreter": {
    "hash": "81794d4967e6c3204c66dcd87b604927b115b27c00565d3d43f05ba2f3a2cb0d"
   }
  }
 },
 "nbformat": 4,
 "nbformat_minor": 2
}
