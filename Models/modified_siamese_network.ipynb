{
 "cells": [
  {
   "cell_type": "code",
   "execution_count": 1,
   "metadata": {
    "collapsed": true
   },
   "outputs": [
    {
     "name": "stderr",
     "output_type": "stream",
     "text": [
      "c:\\Python39\\lib\\site-packages\\requests\\__init__.py:102: RequestsDependencyWarning: urllib3 (1.26.7) or chardet (5.0.0)/charset_normalizer (2.0.9) doesn't match a supported version!\n",
      "  warnings.warn(\"urllib3 ({}) or chardet ({})/charset_normalizer ({}) doesn't match a supported \"\n"
     ]
    }
   ],
   "source": [
    "# Import packages\n",
    "import numpy as np\n",
    "import pandas as pd\n",
    "import chardet\n",
    "from collections import Counter\n",
    "import seaborn as sns\n",
    "import matplotlib.pyplot as plt\n",
    "import string\n",
    "import time\n",
    "\n",
    "\n",
    "\n",
    "import nltk\n",
    "from nltk.corpus import stopwords\n",
    "from nltk.stem.porter import PorterStemmer\n",
    "\n",
    "from sklearn.model_selection import train_test_split, KFold\n",
    "from sklearn.preprocessing import MinMaxScaler, MaxAbsScaler\n",
    "from sklearn.feature_extraction.text import CountVectorizer, TfidfVectorizer\n",
    "from sklearn.model_selection import GridSearchCV\n",
    "from sklearn.metrics import accuracy_score, make_scorer, confusion_matrix\n",
    "from sklearn.metrics import precision_recall_fscore_support as score\n",
    "from sklearn.preprocessing import LabelBinarizer\n",
    "from sklearn.svm import SVC\n",
    "\n",
    "from keras.models import Model\n",
    "from keras.layers import Input, Dense, Flatten, Dropout, Embedding\n",
    "from keras.layers.convolutional import Conv1D, MaxPooling1D\n",
    "from tensorflow.keras.layers import concatenate\n",
    "from keras.optimizers import Adam\n",
    "from keras.preprocessing.text import one_hot\n",
    "from keras.callbacks import ModelCheckpoint \n",
    "from sklearn.preprocessing import LabelEncoder\n",
    "from sklearn.preprocessing import OneHotEncoder\n",
    "from scipy import sparse, stats\n",
    "import utils.text_processing as util\n",
    "\n"
   ]
  },
  {
   "cell_type": "code",
   "execution_count": 2,
   "metadata": {},
   "outputs": [
    {
     "name": "stderr",
     "output_type": "stream",
     "text": [
      "UsageError: Line magic function `%` not found.\n"
     ]
    }
   ],
   "source": [
    "# Display plots inline\n",
    "% matplotlib inline"
   ]
  },
  {
   "cell_type": "code",
   "execution_count": 3,
   "metadata": {},
   "outputs": [],
   "source": [
    "#Parameters\n",
    "OUTPUT_CLASSES = 22\n",
    "FILE_NAME = \"../Data/processed_data.csv\"\n",
    "SEQUENCE_LENGTH = 150\n",
    "EMBEDDING_SIZES =[300,250,150,50]\n",
    "BATCH_SIZE = 128\n",
    "EPOCH_LENGTH = 10\n",
    "VALIDATION_PERCENTAGE = 0.2\n",
    "TEST_SIZE_PERCENTAGE = 0.2\n",
    "Y_LABEL_NAME=\"username\"\n",
    "NUMBER_K_FOLDS = 3\n"
   ]
  },
  {
   "cell_type": "code",
   "execution_count": 4,
   "metadata": {},
   "outputs": [],
   "source": [
    "# Define model architecture in keras\n",
    "# Code reference: https://machinelearningmastery.com/develop-n-gram-multichannel-convolutional-neural-network-sentiment-analysis/\n",
    "def define_model(input_len, output_size, vocab_sizes, embedding_dims, verbose = True,\n",
    "                drop_out_pct = 0.25, conv_filters = 500, activation_fn = 'relu', pool_size = 2, learning = 0.0001):\n",
    "    \"\"\"Define n-gram CNN\n",
    "    \n",
    "    Args:\n",
    "    input_len: int. Length of input sequences.\n",
    "    output_size: int. Number of output classes.\n",
    "    vocab_size: int. Maximum value of n-gram encoding.\n",
    "    embedding_dim: int. Size of embedding layer.\n",
    "    verbose: bool. Whether or not to print model summary.\n",
    "    drop_out_pct: float. Drop-out rate.\n",
    "    conv_filters: int. Number of filters in the conv layer.\n",
    "    activation_fn: string. Activation function to use in the convolutional layer.\n",
    "    pool_size: int. Pool size for the max pooling layer.\n",
    "    learning: float. Learning rate for the model optimizer.\n",
    "    \n",
    "    Returns:\n",
    "    model: keras model object. \n",
    "    \"\"\"\n",
    "    # Channel 1\n",
    "    inputs1 = Input(shape = (input_len,))\n",
    "    embedding1 = Embedding(vocab_sizes[0], embedding_dims[0])(inputs1)\n",
    "    drop1 = Dropout(drop_out_pct)(embedding1)\n",
    "    conv1 = Conv1D(filters = conv_filters, kernel_size = 3, activation = activation_fn)(drop1)\n",
    "    pool1 = MaxPooling1D(pool_size = pool_size)(conv1)\n",
    "    flat1 = Flatten()(pool1)\n",
    "    \n",
    "    # Channel 2\n",
    "    inputs2 = Input(shape = (input_len,))\n",
    "    embedding2 = Embedding(vocab_sizes[1], embedding_dims[1])(inputs2)\n",
    "    drop2 = Dropout(drop_out_pct)(embedding2)\n",
    "    conv2 = Conv1D(filters = conv_filters, kernel_size = 4, activation = activation_fn)(drop2)\n",
    "    pool2 = MaxPooling1D(pool_size = pool_size)(conv2)\n",
    "    flat2 = Flatten()(pool2)\n",
    "\n",
    "    # Channel 3\n",
    "    inputs3 = Input(shape = (input_len,))\n",
    "    embedding3= Embedding(vocab_sizes[2], embedding_dims[2])(inputs3)\n",
    "    drop3 = Dropout(drop_out_pct)(embedding3)\n",
    "    conv3 = Conv1D(filters = conv_filters, kernel_size = 5, activation = activation_fn)(drop3)\n",
    "    pool3 = MaxPooling1D(pool_size = pool_size)(conv3)\n",
    "    flat3 = Flatten()(pool3)\n",
    "    \n",
    "    # Channel 4\n",
    "    inputs4 = Input(shape = (input_len,))\n",
    "    embedding4 = Embedding(vocab_sizes[3], embedding_dims[3])(inputs4)\n",
    "    drop4 = Dropout(drop_out_pct)(embedding4)\n",
    "    conv4 = Conv1D(filters = conv_filters, kernel_size = 6, activation = activation_fn)(drop4)\n",
    "    pool4 = MaxPooling1D(pool_size = pool_size)(conv4)\n",
    "    flat4 = Flatten()(pool4)\n",
    "    \n",
    "    # Merge channels\n",
    "    merged = concatenate([flat1, flat2, flat3, flat4])\n",
    "    \n",
    "    # Create output layer\n",
    "    output = Dense(output_size, activation = 'softmax')(merged)\n",
    "    \n",
    "    # Create model\n",
    "    model = Model(inputs = [inputs1, inputs2, inputs3, inputs4], outputs = output)\n",
    "    \n",
    "    # Compile model\n",
    "    model.compile(loss='categorical_crossentropy', optimizer = Adam(lr = learning), metrics=['accuracy'])\n",
    "    \n",
    "    if verbose:\n",
    "        print(model.summary())\n",
    "\n",
    "    return model\n",
    "        "
   ]
  },
  {
   "cell_type": "code",
   "execution_count": 5,
   "metadata": {},
   "outputs": [],
   "source": [
    "data = pd.read_csv(FILE_NAME)"
   ]
  },
  {
   "cell_type": "code",
   "execution_count": 6,
   "metadata": {},
   "outputs": [],
   "source": [
    "#Get text and y label\n",
    "text = data['raw_text']\n",
    "author = data['username']"
   ]
  },
  {
   "cell_type": "code",
   "execution_count": 7,
   "metadata": {
    "collapsed": true
   },
   "outputs": [],
   "source": [
    "text_train, text_test, author_train, author_test = train_test_split(text, author, test_size = TEST_SIZE_PERCENTAGE, random_state = 5)"
   ]
  },
  {
   "cell_type": "code",
   "execution_count": 8,
   "metadata": {},
   "outputs": [
    {
     "name": "stdout",
     "output_type": "stream",
     "text": [
      "(22298,)\n",
      "(5575,)\n",
      "(22298,)\n",
      "(5575,)\n"
     ]
    }
   ],
   "source": [
    "# Check shapes of created datasets\n",
    "print(np.shape(text_train))\n",
    "print(np.shape(text_test))\n",
    "print(np.shape(author_train))\n",
    "print(np.shape(author_test))"
   ]
  },
  {
   "cell_type": "code",
   "execution_count": 9,
   "metadata": {},
   "outputs": [
    {
     "name": "stdout",
     "output_type": "stream",
     "text": [
      "Vocab size for n = 1 is: 643\n",
      "Vocab size for n = 2 is: 9357\n",
      "Vocab size for n = 3 is: 68852\n"
     ]
    }
   ],
   "source": [
    "# Determine vocab sizes for n-grams\n",
    "vocab_sizes = []\n",
    "for i in range(1, 4):\n",
    "    vocab_size = util.get_vocab_size(text_train, i, SEQUENCE_LENGTH)\n",
    "    vocab_sizes.append(vocab_size)\n",
    "    print('Vocab size for n =', i, 'is:', vocab_size)"
   ]
  },
  {
   "cell_type": "code",
   "execution_count": 10,
   "metadata": {},
   "outputs": [
    {
     "name": "stdout",
     "output_type": "stream",
     "text": [
      "(22298, 50)\n",
      "(22298, 50)\n",
      "(22298, 50)\n",
      "(5575, 50)\n",
      "(5575, 50)\n",
      "(5575, 50)\n"
     ]
    }
   ],
   "source": [
    "gram1_train = util.create_n_grams(text_train, 1, vocab_sizes[0], SEQUENCE_LENGTH)\n",
    "gram2_train = util.create_n_grams(text_train, 2, vocab_sizes[1], SEQUENCE_LENGTH)\n",
    "gram3_train = util.create_n_grams(text_train, 3, vocab_sizes[2], SEQUENCE_LENGTH)\n",
    "\n",
    "gram1_test = util.create_n_grams(text_test, 1, vocab_sizes[0], SEQUENCE_LENGTH)\n",
    "gram2_test = util.create_n_grams(text_test, 2, vocab_sizes[1], SEQUENCE_LENGTH)\n",
    "gram3_test = util.create_n_grams(text_test, 3, vocab_sizes[2], SEQUENCE_LENGTH)\n",
    "\n",
    "print(np.shape(gram1_train))\n",
    "print(np.shape(gram2_train))\n",
    "print(np.shape(gram3_train))\n",
    "\n",
    "print(np.shape(gram1_test))\n",
    "print(np.shape(gram2_test))\n",
    "print(np.shape(gram3_test))"
   ]
  },
  {
   "cell_type": "code",
   "execution_count": 11,
   "metadata": {},
   "outputs": [
    {
     "name": "stdout",
     "output_type": "stream",
     "text": [
      "Maximum encoding value for 1-grams is:  835\n",
      "Maximum encoding value for 2-grams is:  12162\n",
      "Maximum encoding value for 3-grams is:  89506\n"
     ]
    }
   ],
   "source": [
    "# Determine maximum value of n-gram encodings (this is used to set the CNN embedding dimension)\n",
    "max_1gram = np.max(gram1_train)\n",
    "max_2gram = np.max(gram2_train)\n",
    "max_3gram = np.max(gram3_train)\n",
    "\n",
    "print('Maximum encoding value for 1-grams is: ', max_1gram)\n",
    "print('Maximum encoding value for 2-grams is: ', max_2gram)\n",
    "print('Maximum encoding value for 3-grams is: ', max_3gram)"
   ]
  },
  {
   "cell_type": "code",
   "execution_count": 12,
   "metadata": {},
   "outputs": [],
   "source": [
    "# One hot encode labels\n",
    "author_lb = LabelBinarizer()\n",
    "author_lb.fit(author_train)\n",
    "author_train_hot = author_lb.transform(author_train)\n",
    "author_test_hot = author_lb.transform(author_test)"
   ]
  },
  {
   "cell_type": "code",
   "execution_count": 13,
   "metadata": {},
   "outputs": [
    {
     "name": "stdout",
     "output_type": "stream",
     "text": [
      "Run: 1\n"
     ]
    },
    {
     "name": "stderr",
     "output_type": "stream",
     "text": [
      "C:\\Users\\leobl\\AppData\\Roaming\\Python\\Python39\\site-packages\\keras\\optimizers\\optimizer_v2\\adam.py:110: UserWarning: The `lr` argument is deprecated, use `learning_rate` instead.\n",
      "  super(Adam, self).__init__(name, **kwargs)\n"
     ]
    },
    {
     "name": "stdout",
     "output_type": "stream",
     "text": [
      "175/175 [==============================] - 2s 11ms/step\n",
      "Run: 2\n"
     ]
    },
    {
     "name": "stderr",
     "output_type": "stream",
     "text": [
      "c:\\Python39\\lib\\site-packages\\sklearn\\metrics\\_classification.py:1334: UndefinedMetricWarning: Precision and F-score are ill-defined and being set to 0.0 in labels with no predicted samples. Use `zero_division` parameter to control this behavior.\n",
      "  _warn_prf(average, modifier, msg_start, len(result))\n",
      "C:\\Users\\leobl\\AppData\\Roaming\\Python\\Python39\\site-packages\\keras\\optimizers\\optimizer_v2\\adam.py:110: UserWarning: The `lr` argument is deprecated, use `learning_rate` instead.\n",
      "  super(Adam, self).__init__(name, **kwargs)\n"
     ]
    },
    {
     "name": "stdout",
     "output_type": "stream",
     "text": [
      "175/175 [==============================] - 2s 12ms/step\n",
      "Run: 3\n"
     ]
    },
    {
     "name": "stderr",
     "output_type": "stream",
     "text": [
      "c:\\Python39\\lib\\site-packages\\sklearn\\metrics\\_classification.py:1334: UndefinedMetricWarning: Precision and F-score are ill-defined and being set to 0.0 in labels with no predicted samples. Use `zero_division` parameter to control this behavior.\n",
      "  _warn_prf(average, modifier, msg_start, len(result))\n",
      "C:\\Users\\leobl\\AppData\\Roaming\\Python\\Python39\\site-packages\\keras\\optimizers\\optimizer_v2\\adam.py:110: UserWarning: The `lr` argument is deprecated, use `learning_rate` instead.\n",
      "  super(Adam, self).__init__(name, **kwargs)\n"
     ]
    },
    {
     "name": "stdout",
     "output_type": "stream",
     "text": [
      "175/175 [==============================] - 2s 10ms/step\n",
      "Accuracy: [0.5653811659192826, 0.5766816143497758, 0.5777578475336322]\n",
      "Ave. Precision: [0.5772424986722301, 0.5801405843025658, 0.571228330851036]\n",
      "Ave. Recall: [0.5653811659192827, 0.5766816143497759, 0.5777578475336324]\n",
      "Ave. F1 Score: [0.5439736282193315, 0.5589992849147282, 0.5554392709448945]\n"
     ]
    },
    {
     "name": "stderr",
     "output_type": "stream",
     "text": [
      "c:\\Python39\\lib\\site-packages\\sklearn\\metrics\\_classification.py:1334: UndefinedMetricWarning: Precision and F-score are ill-defined and being set to 0.0 in labels with no predicted samples. Use `zero_division` parameter to control this behavior.\n",
      "  _warn_prf(average, modifier, msg_start, len(result))\n"
     ]
    }
   ],
   "source": [
    "# Model 1 Sensitivity Testing\n",
    "\n",
    "kf = KFold(n_splits = NUMBER_K_FOLDS)\n",
    "\n",
    "test_accuracy_list = []\n",
    "prec_list = []\n",
    "recall_list = []\n",
    "f1_list = []\n",
    "training_time_list = []\n",
    "prediction_time_list = []\n",
    "full_history =[]\n",
    "\n",
    "run = 0\n",
    "\n",
    "\n",
    "for train_inds, _ in kf.split(gram3_train):\n",
    "    run += 1\n",
    "    print('Run:', run)\n",
    "       \n",
    "    train_x = np.array([gram3_train[i] for i in train_inds])\n",
    "    train_y = np.array([author_train_hot[i] for i in train_inds])\n",
    "    \n",
    "    t0 = time.time()\n",
    "    # Fit model\n",
    "    model = define_model(SEQUENCE_LENGTH, OUTPUT_CLASSES, [max_3gram + 1,max_3gram + 1,max_3gram + 1,max_3gram + 1], [EMBEDDING_SIZES[0],EMBEDDING_SIZES[1],EMBEDDING_SIZES[2],EMBEDDING_SIZES[3]],verbose = False)\n",
    "    histroy = model.fit([train_x, train_x, train_x, train_x], train_y, epochs=EPOCH_LENGTH, batch_size=BATCH_SIZE, \n",
    "                verbose = 0, validation_split = VALIDATION_PERCENTAGE)\n",
    "    \n",
    "    t1 = time.time()\n",
    "    # Predict values for test set\n",
    "    author_pred1 = model.predict([gram3_test, gram3_test, gram3_test,gram3_test])\n",
    "    author_pred1 = author_lb.inverse_transform(author_pred1)\n",
    "\n",
    "    t2 = time.time()\n",
    "    # Evaluate\n",
    "    test_accuracy = accuracy_score(author_test, author_pred1)\n",
    "    precision, recall, f1, support = score(author_test, author_pred1)\n",
    "    ave_precision = np.average(precision, weights = support/np.sum(support))\n",
    "    ave_recall = np.average(recall, weights = support/np.sum(support))\n",
    "    ave_f1 = np.average(f1, weights = support/np.sum(support))\n",
    "    training_time = (t1 - t0)\n",
    "    prediction_time = (t2 - t1)\n",
    "    \n",
    "    test_accuracy_list.append(test_accuracy)\n",
    "    prec_list.append(ave_precision)\n",
    "    recall_list.append(ave_recall)\n",
    "    f1_list.append(ave_f1)\n",
    "    training_time_list.append(training_time)\n",
    "    prediction_time_list.append(prediction_time)\n",
    "    full_history.append(histroy)\n",
    "\n",
    "print(\"Accuracy:\", test_accuracy_list)\n",
    "print(\"Ave. Precision:\", prec_list)\n",
    "print(\"Ave. Recall:\", recall_list)\n",
    "print(\"Ave. F1 Score:\", f1_list)"
   ]
  },
  {
   "cell_type": "code",
   "execution_count": 14,
   "metadata": {},
   "outputs": [
    {
     "name": "stdout",
     "output_type": "stream",
     "text": [
      "Average Accuracy across K-folds: 0.5732735426008969\n",
      "Average Precision across K-folds: 0.5762038046086105\n",
      "Average Recall across K-folds: 0.573273542600897\n",
      "Average F1 Score across K-folds: 0.5528040613596514\n",
      "Average Training Time across K-folds: 201.52344632148743 seconds\n",
      "Prediction Time across K-folds: 1.9145326614379883 seconds\n"
     ]
    }
   ],
   "source": [
    "#Get averages for kfold runs\n",
    "mean_accuracy_across_kfold = np.mean(test_accuracy_list)\n",
    "mean_percision_across_kfold = np.mean(prec_list)\n",
    "mean_recall_across_kfold = np.mean(recall_list)\n",
    "mean_f1_across_kfold = np.mean(f1_list)\n",
    "\n",
    "\n",
    "print(\"Average Accuracy across K-folds:\", mean_accuracy_across_kfold)\n",
    "print(\"Average Precision across K-folds:\", mean_percision_across_kfold)\n",
    "print(\"Average Recall across K-folds:\", mean_recall_across_kfold)\n",
    "print(\"Average F1 Score across K-folds:\", mean_f1_across_kfold)\n",
    "print(\"Average Training Time across K-folds:\", (t1 - t0), \"seconds\")\n",
    "print(\"Prediction Time across K-folds:\", (t2 - t1), \"seconds\")"
   ]
  },
  {
   "cell_type": "code",
   "execution_count": 15,
   "metadata": {},
   "outputs": [],
   "source": [
    "average_test_loss_accross_kfold = []\n",
    "average_validation_loss_accross_kfold = []\n",
    "average_test_accuracy_accross_kfold = []\n",
    "average_validation_accuracy_accross_kfold = []\n",
    "\n",
    "for i in range(len(full_history)):\n",
    "    average_test_loss_accross_kfold.append(full_history[i].history['loss'])\n",
    "    average_validation_loss_accross_kfold.append(full_history[i].history['val_loss'])\n",
    "\n",
    "    average_test_accuracy_accross_kfold.append(full_history[i].history['accuracy'])\n",
    "    average_validation_accuracy_accross_kfold.append(full_history[i].history['val_accuracy'])\n",
    "\n",
    "average_loss_accross_kfold = np.mean(average_test_loss_accross_kfold,axis=0)\n",
    "average_validation_loss_accross_kfold = np.mean(average_validation_loss_accross_kfold,axis=0)\n",
    "\n",
    "average_accuracy_accross_kfold = np.mean(average_test_accuracy_accross_kfold,axis=0)\n",
    "average_validation_accuracy_accross_kfold = np.mean(average_validation_accuracy_accross_kfold,axis=0)\n"
   ]
  },
  {
   "cell_type": "code",
   "execution_count": 16,
   "metadata": {},
   "outputs": [
    {
     "name": "stderr",
     "output_type": "stream",
     "text": [
      "The PostScript backend does not support transparency; partially transparent artists will be rendered opaque.\n"
     ]
    },
    {
     "data": {
      "image/png": "[encoded data removed]",
      "text/plain": [
       "<Figure size 640x480 with 1 Axes>"
      ]
     },
     "metadata": {},
     "output_type": "display_data"
    }
   ],
   "source": [
    "# summarize history for accuracy\n",
    "plt.plot(average_accuracy_accross_kfold)\n",
    "plt.plot(average_validation_accuracy_accross_kfold)\n",
    "plt.title('Modified Siamese Network Accuracy ')\n",
    "plt.ylabel('accuracy')\n",
    "plt.xlabel('epoch')\n",
    "plt.legend(['Train', 'Validation'], loc='upper left')\n",
    "plt.savefig(\"outputs/modified_siamases_network_acc.eps\", format='eps')\n",
    "plt.show()\n"
   ]
  },
  {
   "cell_type": "code",
   "execution_count": 17,
   "metadata": {},
   "outputs": [
    {
     "name": "stderr",
     "output_type": "stream",
     "text": [
      "The PostScript backend does not support transparency; partially transparent artists will be rendered opaque.\n"
     ]
    },
    {
     "data": {
      "image/png": "[encoded data removed]",
      "text/plain": [
       "<Figure size 640x480 with 1 Axes>"
      ]
     },
     "metadata": {},
     "output_type": "display_data"
    }
   ],
   "source": [
    "# summarize history for loss\n",
    "plt.plot(average_loss_accross_kfold)\n",
    "plt.plot(average_validation_loss_accross_kfold)\n",
    "plt.title('Modified Siamese Network Loss')\n",
    "plt.ylabel('loss')\n",
    "plt.xlabel('epoch')\n",
    "plt.legend(['Train', 'Validation'], loc='upper left')\n",
    "plt.savefig(\"outputs/modified_siamese_network_loss.eps\", format='eps')\n",
    "plt.show()"
   ]
  }
 ],
 "metadata": {
  "kernelspec": {
   "display_name": "Python 3.9.6 64-bit",
   "language": "python",
   "name": "python3"
  },
  "language_info": {
   "codemirror_mode": {
    "name": "ipython",
    "version": 3
   },
   "file_extension": ".py",
   "mimetype": "text/x-python",
   "name": "python",
   "nbconvert_exporter": "python",
   "pygments_lexer": "ipython3",
   "version": "3.9.6"
  },
  "vscode": {
   "interpreter": {
    "hash": "81794d4967e6c3204c66dcd87b604927b115b27c00565d3d43f05ba2f3a2cb0d"
   }
  }
 },
 "nbformat": 4,
 "nbformat_minor": 2
}
