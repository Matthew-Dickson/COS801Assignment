{
  "nbformat": 4,
  "nbformat_minor": 0,
  "metadata": {
    "colab": {
      "name": "COS801Assignment.ipynb",
      "provenance": [],
      "authorship_tag": "ABX9TyOXdtbDTrZmZOAGN1ZxX1Bp",
      "include_colab_link": true
    },
    "kernelspec": {
      "name": "python3",
      "display_name": "Python 3"
    },
    "language_info": {
      "name": "python"
    }
  },
  "cells": [
    {
      "cell_type": "markdown",
      "metadata": {
        "id": "view-in-github",
        "colab_type": "text"
      },
      "source": [
        "<a href=\"https://colab.research.google.com/github/Matthew-Dickson/COS801Assignment/blob/main/COS801Assignment.ipynb\" target=\"_parent\"><img src=\"https://colab.research.google.com/assets/colab-badge.svg\" alt=\"Open In Colab\"/></a>"
      ]
    },
    {
      "cell_type": "markdown",
      "source": [
        "<h2>Some usefull information:</h2>\n",
        "\n",
        "\n",
        "1.   https://www.kaggle.com/code/hsankesara/news-classification-using-han/notebook\n",
        "2.   https://medium.com/analytics-vidhya/hierarchical-attention-networks-d220318cf87e\n",
        "\n"
      ],
      "metadata": {
        "id": "DUTeNwJGTf1w"
      }
    },
    {
      "cell_type": "markdown",
      "source": [
        "<h2>Dataset section <h2>"
      ],
      "metadata": {
        "id": "iwLyfYZBT8Iv"
      }
    },
    {
      "cell_type": "code",
      "source": [
        ""
      ],
      "metadata": {
        "id": "He6KF3ajT573"
      },
      "execution_count": null,
      "outputs": []
    }
  ]
}